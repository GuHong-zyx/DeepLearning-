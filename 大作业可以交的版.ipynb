{
 "cells": [
  {
   "cell_type": "code",
   "execution_count": 19,
   "metadata": {},
   "outputs": [],
   "source": [
    "import torch\n",
    "import torch.nn as nn\n",
    "import numpy as np\n",
    "import matplotlib.pyplot as plt\n",
    "import plotly.express as px\n",
    "import pandas as pd\n"
   ]
  },
  {
   "cell_type": "code",
   "execution_count": 20,
   "metadata": {},
   "outputs": [],
   "source": [
    "import wandb"
   ]
  },
  {
   "cell_type": "markdown",
   "metadata": {},
   "source": [
    "### 数据导入"
   ]
  },
  {
   "cell_type": "code",
   "execution_count": 21,
   "metadata": {},
   "outputs": [],
   "source": [
    "df1=pd.read_excel(r\"C:\\Users\\27968\\Desktop\\学习\\计算机\\机器学习与数据挖掘\\2024期末大作业\\2024期末大作业\\缺陷检测.xlsx\")"
   ]
  },
  {
   "cell_type": "code",
   "execution_count": 23,
   "metadata": {},
   "outputs": [],
   "source": [
    "df=df1"
   ]
  },
  {
   "cell_type": "code",
   "execution_count": 24,
   "metadata": {},
   "outputs": [
    {
     "data": {
      "text/html": [
       "<div>\n",
       "<style scoped>\n",
       "    .dataframe tbody tr th:only-of-type {\n",
       "        vertical-align: middle;\n",
       "    }\n",
       "\n",
       "    .dataframe tbody tr th {\n",
       "        vertical-align: top;\n",
       "    }\n",
       "\n",
       "    .dataframe thead th {\n",
       "        text-align: right;\n",
       "    }\n",
       "</style>\n",
       "<table border=\"1\" class=\"dataframe\">\n",
       "  <thead>\n",
       "    <tr style=\"text-align: right;\">\n",
       "      <th></th>\n",
       "      <th>时间X1</th>\n",
       "      <th>缺陷累计产生数量X2</th>\n",
       "      <th>特征X3</th>\n",
       "      <th>特征X4</th>\n",
       "      <th>特征X5</th>\n",
       "      <th>特征X6</th>\n",
       "      <th>特征X7</th>\n",
       "      <th>特征X8</th>\n",
       "      <th>特征X9</th>\n",
       "      <th>缺陷检测质量风险 Y</th>\n",
       "    </tr>\n",
       "  </thead>\n",
       "  <tbody>\n",
       "    <tr>\n",
       "      <th>0</th>\n",
       "      <td>2050-12-31 06:43:39</td>\n",
       "      <td>0</td>\n",
       "      <td>40</td>\n",
       "      <td>43</td>\n",
       "      <td>0</td>\n",
       "      <td>0</td>\n",
       "      <td>0</td>\n",
       "      <td>0</td>\n",
       "      <td>0</td>\n",
       "      <td>无质量隐患</td>\n",
       "    </tr>\n",
       "    <tr>\n",
       "      <th>1</th>\n",
       "      <td>2050-12-31 06:44:09</td>\n",
       "      <td>0</td>\n",
       "      <td>120</td>\n",
       "      <td>146</td>\n",
       "      <td>0</td>\n",
       "      <td>0</td>\n",
       "      <td>0</td>\n",
       "      <td>0</td>\n",
       "      <td>0</td>\n",
       "      <td>NaN</td>\n",
       "    </tr>\n",
       "    <tr>\n",
       "      <th>2</th>\n",
       "      <td>2050-12-31 06:44:39</td>\n",
       "      <td>0</td>\n",
       "      <td>120</td>\n",
       "      <td>146</td>\n",
       "      <td>0</td>\n",
       "      <td>0</td>\n",
       "      <td>0</td>\n",
       "      <td>0</td>\n",
       "      <td>0</td>\n",
       "      <td>NaN</td>\n",
       "    </tr>\n",
       "  </tbody>\n",
       "</table>\n",
       "</div>"
      ],
      "text/plain": [
       "                 时间X1  缺陷累计产生数量X2  特征X3  特征X4  特征X5  特征X6  特征X7  特征X8  特征X9  \\\n",
       "0 2050-12-31 06:43:39           0    40    43     0     0     0     0     0   \n",
       "1 2050-12-31 06:44:09           0   120   146     0     0     0     0     0   \n",
       "2 2050-12-31 06:44:39           0   120   146     0     0     0     0     0   \n",
       "\n",
       "  缺陷检测质量风险 Y  \n",
       "0      无质量隐患  \n",
       "1        NaN  \n",
       "2        NaN  "
      ]
     },
     "execution_count": 24,
     "metadata": {},
     "output_type": "execute_result"
    }
   ],
   "source": [
    "df.head(3)"
   ]
  },
  {
   "cell_type": "code",
   "execution_count": 25,
   "metadata": {},
   "outputs": [
    {
     "data": {
      "text/plain": [
       "缺陷检测质量风险 Y\n",
       "无质量隐患    97\n",
       "有质量隐患    44\n",
       "Name: count, dtype: int64"
      ]
     },
     "execution_count": 25,
     "metadata": {},
     "output_type": "execute_result"
    }
   ],
   "source": [
    "df['缺陷检测质量风险 Y'].value_counts()"
   ]
  },
  {
   "cell_type": "markdown",
   "metadata": {},
   "source": [
    "### 数据预处理"
   ]
  },
  {
   "cell_type": "code",
   "execution_count": 26,
   "metadata": {},
   "outputs": [],
   "source": [
    "def generate_shift_ids(series):\n",
    "    # 创建一个新的ID列，初始值为0\n",
    "    ids = pd.Series(0, index=series.index)\n",
    "    current_id = 1\n",
    "    last_valid_idx = None\n",
    "    \n",
    "    # 遍历series中的每个值和它的索引\n",
    "    for idx in series.index:\n",
    "        if pd.notna(series[idx]):  # 如果是非缺失值\n",
    "            if last_valid_idx is not None:  # 如果不是第一个非缺失值\n",
    "                # 将两个非缺失值之间的所有行赋予相同的ID\n",
    "                ids.loc[last_valid_idx:idx] = current_id\n",
    "                current_id += 1\n",
    "            last_valid_idx = idx\n",
    "    \n",
    "    # 处理最后一段\n",
    "    if last_valid_idx is not None:\n",
    "        ids.loc[last_valid_idx:] = current_id\n",
    "        \n",
    "    return ids\n",
    "\n",
    "# 使用示例：\n",
    "df['shift_id'] = generate_shift_ids(df['缺陷检测质量风险 Y'])"
   ]
  },
  {
   "cell_type": "code",
   "execution_count": 27,
   "metadata": {},
   "outputs": [
    {
     "data": {
      "text/plain": [
       "141"
      ]
     },
     "execution_count": 27,
     "metadata": {},
     "output_type": "execute_result"
    }
   ],
   "source": [
    "df['shift_id'].max() # 有多少个不同的ID"
   ]
  },
  {
   "cell_type": "code",
   "execution_count": 28,
   "metadata": {},
   "outputs": [
    {
     "name": "stderr",
     "output_type": "stream",
     "text": [
      "C:\\Users\\27968\\AppData\\Local\\Temp\\ipykernel_73304\\70679916.py:8: DeprecationWarning:\n",
      "\n",
      "DataFrameGroupBy.apply operated on the grouping columns. This behavior is deprecated, and in a future version of pandas the grouping columns will be excluded from the operation. Either pass `include_groups=False` to exclude the groupings or explicitly select the grouping columns after groupby to silence this warning.\n",
      "\n"
     ]
    }
   ],
   "source": [
    "def f(group):\n",
    "    x1 = group.iloc[[0]]\n",
    "    x2 = group[group['缺陷累计产生数量X2'] != group['缺陷累计产生数量X2'].shift()]\n",
    "    x1 = pd.concat([x1, x2])\n",
    "    return x1\n",
    "\n",
    "# 按班次分组并处理\n",
    "df_new = df.groupby('shift_id').apply(f)\n",
    "#去除重复值\n",
    "df_new = df_new.drop_duplicates()"
   ]
  },
  {
   "cell_type": "code",
   "execution_count": 29,
   "metadata": {},
   "outputs": [
    {
     "data": {
      "text/html": [
       "<div>\n",
       "<style scoped>\n",
       "    .dataframe tbody tr th:only-of-type {\n",
       "        vertical-align: middle;\n",
       "    }\n",
       "\n",
       "    .dataframe tbody tr th {\n",
       "        vertical-align: top;\n",
       "    }\n",
       "\n",
       "    .dataframe thead th {\n",
       "        text-align: right;\n",
       "    }\n",
       "</style>\n",
       "<table border=\"1\" class=\"dataframe\">\n",
       "  <thead>\n",
       "    <tr style=\"text-align: right;\">\n",
       "      <th></th>\n",
       "      <th></th>\n",
       "      <th>时间X1</th>\n",
       "      <th>缺陷累计产生数量X2</th>\n",
       "      <th>特征X3</th>\n",
       "      <th>特征X4</th>\n",
       "      <th>特征X5</th>\n",
       "      <th>特征X6</th>\n",
       "      <th>特征X7</th>\n",
       "      <th>特征X8</th>\n",
       "      <th>特征X9</th>\n",
       "      <th>缺陷检测质量风险 Y</th>\n",
       "      <th>shift_id</th>\n",
       "    </tr>\n",
       "    <tr>\n",
       "      <th>shift_id</th>\n",
       "      <th></th>\n",
       "      <th></th>\n",
       "      <th></th>\n",
       "      <th></th>\n",
       "      <th></th>\n",
       "      <th></th>\n",
       "      <th></th>\n",
       "      <th></th>\n",
       "      <th></th>\n",
       "      <th></th>\n",
       "      <th></th>\n",
       "      <th></th>\n",
       "    </tr>\n",
       "  </thead>\n",
       "  <tbody>\n",
       "    <tr>\n",
       "      <th rowspan=\"3\" valign=\"top\">1</th>\n",
       "      <th>0</th>\n",
       "      <td>2050-12-31 06:43:39</td>\n",
       "      <td>0</td>\n",
       "      <td>40</td>\n",
       "      <td>43</td>\n",
       "      <td>0</td>\n",
       "      <td>0</td>\n",
       "      <td>0</td>\n",
       "      <td>0</td>\n",
       "      <td>0</td>\n",
       "      <td>无质量隐患</td>\n",
       "      <td>1</td>\n",
       "    </tr>\n",
       "    <tr>\n",
       "      <th>119</th>\n",
       "      <td>2050-12-31 07:43:11</td>\n",
       "      <td>3</td>\n",
       "      <td>13150</td>\n",
       "      <td>13267</td>\n",
       "      <td>0</td>\n",
       "      <td>0</td>\n",
       "      <td>4</td>\n",
       "      <td>2</td>\n",
       "      <td>21</td>\n",
       "      <td>NaN</td>\n",
       "      <td>1</td>\n",
       "    </tr>\n",
       "    <tr>\n",
       "      <th>226</th>\n",
       "      <td>2050-12-31 08:36:42</td>\n",
       "      <td>6</td>\n",
       "      <td>31190</td>\n",
       "      <td>31283</td>\n",
       "      <td>3</td>\n",
       "      <td>0</td>\n",
       "      <td>5</td>\n",
       "      <td>2</td>\n",
       "      <td>24</td>\n",
       "      <td>NaN</td>\n",
       "      <td>1</td>\n",
       "    </tr>\n",
       "  </tbody>\n",
       "</table>\n",
       "</div>"
      ],
      "text/plain": [
       "                            时间X1  缺陷累计产生数量X2   特征X3   特征X4  特征X5  特征X6  特征X7  \\\n",
       "shift_id                                                                       \n",
       "1        0   2050-12-31 06:43:39           0     40     43     0     0     0   \n",
       "         119 2050-12-31 07:43:11           3  13150  13267     0     0     4   \n",
       "         226 2050-12-31 08:36:42           6  31190  31283     3     0     5   \n",
       "\n",
       "              特征X8  特征X9 缺陷检测质量风险 Y  shift_id  \n",
       "shift_id                                       \n",
       "1        0       0     0      无质量隐患         1  \n",
       "         119     2    21        NaN         1  \n",
       "         226     2    24        NaN         1  "
      ]
     },
     "execution_count": 29,
     "metadata": {},
     "output_type": "execute_result"
    }
   ],
   "source": [
    "df_new.head(3)"
   ]
  },
  {
   "cell_type": "code",
   "execution_count": 30,
   "metadata": {},
   "outputs": [],
   "source": [
    "#删除现有的索引\n",
    "df_new.reset_index(drop=True, inplace=True)\n",
    "shift_counts = df_new.groupby('shift_id').size()"
   ]
  },
  {
   "cell_type": "code",
   "execution_count": 31,
   "metadata": {},
   "outputs": [
    {
     "data": {
      "text/html": [
       "<div>\n",
       "<style scoped>\n",
       "    .dataframe tbody tr th:only-of-type {\n",
       "        vertical-align: middle;\n",
       "    }\n",
       "\n",
       "    .dataframe tbody tr th {\n",
       "        vertical-align: top;\n",
       "    }\n",
       "\n",
       "    .dataframe thead th {\n",
       "        text-align: right;\n",
       "    }\n",
       "</style>\n",
       "<table border=\"1\" class=\"dataframe\">\n",
       "  <thead>\n",
       "    <tr style=\"text-align: right;\">\n",
       "      <th></th>\n",
       "      <th>时间X1</th>\n",
       "      <th>缺陷累计产生数量X2</th>\n",
       "      <th>特征X3</th>\n",
       "      <th>特征X4</th>\n",
       "      <th>特征X5</th>\n",
       "      <th>特征X6</th>\n",
       "      <th>特征X7</th>\n",
       "      <th>特征X8</th>\n",
       "      <th>特征X9</th>\n",
       "      <th>缺陷检测质量风险 Y</th>\n",
       "      <th>shift_id</th>\n",
       "    </tr>\n",
       "  </thead>\n",
       "  <tbody>\n",
       "    <tr>\n",
       "      <th>0</th>\n",
       "      <td>2050-12-31 06:43:39</td>\n",
       "      <td>0</td>\n",
       "      <td>40</td>\n",
       "      <td>43</td>\n",
       "      <td>0</td>\n",
       "      <td>0</td>\n",
       "      <td>0</td>\n",
       "      <td>0</td>\n",
       "      <td>0</td>\n",
       "      <td>无质量隐患</td>\n",
       "      <td>1</td>\n",
       "    </tr>\n",
       "    <tr>\n",
       "      <th>1</th>\n",
       "      <td>2050-12-31 07:43:11</td>\n",
       "      <td>3</td>\n",
       "      <td>13150</td>\n",
       "      <td>13267</td>\n",
       "      <td>0</td>\n",
       "      <td>0</td>\n",
       "      <td>4</td>\n",
       "      <td>2</td>\n",
       "      <td>21</td>\n",
       "      <td>NaN</td>\n",
       "      <td>1</td>\n",
       "    </tr>\n",
       "    <tr>\n",
       "      <th>2</th>\n",
       "      <td>2050-12-31 08:36:42</td>\n",
       "      <td>6</td>\n",
       "      <td>31190</td>\n",
       "      <td>31283</td>\n",
       "      <td>3</td>\n",
       "      <td>0</td>\n",
       "      <td>5</td>\n",
       "      <td>2</td>\n",
       "      <td>24</td>\n",
       "      <td>NaN</td>\n",
       "      <td>1</td>\n",
       "    </tr>\n",
       "    <tr>\n",
       "      <th>3</th>\n",
       "      <td>2050-12-31 09:31:44</td>\n",
       "      <td>9</td>\n",
       "      <td>49260</td>\n",
       "      <td>49313</td>\n",
       "      <td>3</td>\n",
       "      <td>0</td>\n",
       "      <td>13</td>\n",
       "      <td>5</td>\n",
       "      <td>47</td>\n",
       "      <td>NaN</td>\n",
       "      <td>1</td>\n",
       "    </tr>\n",
       "    <tr>\n",
       "      <th>4</th>\n",
       "      <td>2050-12-31 10:31:46</td>\n",
       "      <td>12</td>\n",
       "      <td>67570</td>\n",
       "      <td>67493</td>\n",
       "      <td>3</td>\n",
       "      <td>0</td>\n",
       "      <td>13</td>\n",
       "      <td>5</td>\n",
       "      <td>61</td>\n",
       "      <td>NaN</td>\n",
       "      <td>1</td>\n",
       "    </tr>\n",
       "    <tr>\n",
       "      <th>...</th>\n",
       "      <td>...</td>\n",
       "      <td>...</td>\n",
       "      <td>...</td>\n",
       "      <td>...</td>\n",
       "      <td>...</td>\n",
       "      <td>...</td>\n",
       "      <td>...</td>\n",
       "      <td>...</td>\n",
       "      <td>...</td>\n",
       "      <td>...</td>\n",
       "      <td>...</td>\n",
       "    </tr>\n",
       "    <tr>\n",
       "      <th>1179</th>\n",
       "      <td>2051-03-30 22:52:56</td>\n",
       "      <td>27</td>\n",
       "      <td>117320</td>\n",
       "      <td>117376</td>\n",
       "      <td>4</td>\n",
       "      <td>0</td>\n",
       "      <td>48</td>\n",
       "      <td>1</td>\n",
       "      <td>169</td>\n",
       "      <td>NaN</td>\n",
       "      <td>141</td>\n",
       "    </tr>\n",
       "    <tr>\n",
       "      <th>1180</th>\n",
       "      <td>2051-03-30 23:04:26</td>\n",
       "      <td>30</td>\n",
       "      <td>121250</td>\n",
       "      <td>121147</td>\n",
       "      <td>6</td>\n",
       "      <td>0</td>\n",
       "      <td>58</td>\n",
       "      <td>4</td>\n",
       "      <td>178</td>\n",
       "      <td>NaN</td>\n",
       "      <td>141</td>\n",
       "    </tr>\n",
       "    <tr>\n",
       "      <th>1181</th>\n",
       "      <td>2051-03-31 00:01:28</td>\n",
       "      <td>33</td>\n",
       "      <td>139410</td>\n",
       "      <td>139254</td>\n",
       "      <td>6</td>\n",
       "      <td>0</td>\n",
       "      <td>66</td>\n",
       "      <td>4</td>\n",
       "      <td>197</td>\n",
       "      <td>NaN</td>\n",
       "      <td>141</td>\n",
       "    </tr>\n",
       "    <tr>\n",
       "      <th>1182</th>\n",
       "      <td>2051-03-31 00:44:29</td>\n",
       "      <td>36</td>\n",
       "      <td>153650</td>\n",
       "      <td>153522</td>\n",
       "      <td>7</td>\n",
       "      <td>0</td>\n",
       "      <td>87</td>\n",
       "      <td>6</td>\n",
       "      <td>214</td>\n",
       "      <td>NaN</td>\n",
       "      <td>141</td>\n",
       "    </tr>\n",
       "    <tr>\n",
       "      <th>1183</th>\n",
       "      <td>2051-03-31 00:54:30</td>\n",
       "      <td>39</td>\n",
       "      <td>157330</td>\n",
       "      <td>157172</td>\n",
       "      <td>7</td>\n",
       "      <td>0</td>\n",
       "      <td>88</td>\n",
       "      <td>6</td>\n",
       "      <td>214</td>\n",
       "      <td>NaN</td>\n",
       "      <td>141</td>\n",
       "    </tr>\n",
       "  </tbody>\n",
       "</table>\n",
       "<p>1184 rows × 11 columns</p>\n",
       "</div>"
      ],
      "text/plain": [
       "                    时间X1  缺陷累计产生数量X2    特征X3    特征X4  特征X5  特征X6  特征X7  特征X8  \\\n",
       "0    2050-12-31 06:43:39           0      40      43     0     0     0     0   \n",
       "1    2050-12-31 07:43:11           3   13150   13267     0     0     4     2   \n",
       "2    2050-12-31 08:36:42           6   31190   31283     3     0     5     2   \n",
       "3    2050-12-31 09:31:44           9   49260   49313     3     0    13     5   \n",
       "4    2050-12-31 10:31:46          12   67570   67493     3     0    13     5   \n",
       "...                  ...         ...     ...     ...   ...   ...   ...   ...   \n",
       "1179 2051-03-30 22:52:56          27  117320  117376     4     0    48     1   \n",
       "1180 2051-03-30 23:04:26          30  121250  121147     6     0    58     4   \n",
       "1181 2051-03-31 00:01:28          33  139410  139254     6     0    66     4   \n",
       "1182 2051-03-31 00:44:29          36  153650  153522     7     0    87     6   \n",
       "1183 2051-03-31 00:54:30          39  157330  157172     7     0    88     6   \n",
       "\n",
       "      特征X9 缺陷检测质量风险 Y  shift_id  \n",
       "0        0      无质量隐患         1  \n",
       "1       21        NaN         1  \n",
       "2       24        NaN         1  \n",
       "3       47        NaN         1  \n",
       "4       61        NaN         1  \n",
       "...    ...        ...       ...  \n",
       "1179   169        NaN       141  \n",
       "1180   178        NaN       141  \n",
       "1181   197        NaN       141  \n",
       "1182   214        NaN       141  \n",
       "1183   214        NaN       141  \n",
       "\n",
       "[1184 rows x 11 columns]"
      ]
     },
     "execution_count": 31,
     "metadata": {},
     "output_type": "execute_result"
    }
   ],
   "source": [
    "df_new"
   ]
  },
  {
   "cell_type": "code",
   "execution_count": 32,
   "metadata": {},
   "outputs": [
    {
     "name": "stdout",
     "output_type": "stream",
     "text": [
      "shift_id\n",
      "1      10\n",
      "2       6\n",
      "3       4\n",
      "4       6\n",
      "5       2\n",
      "       ..\n",
      "137     2\n",
      "138    11\n",
      "139    15\n",
      "140    14\n",
      "141    14\n",
      "Length: 141, dtype: int64\n",
      "最大的班次为：23\n"
     ]
    }
   ],
   "source": [
    "print(shift_counts)\n",
    "print(f'最大的班次为：{shift_counts.max()}')  # 最大的班次有多少行\n"
   ]
  },
  {
   "cell_type": "code",
   "execution_count": 33,
   "metadata": {},
   "outputs": [
    {
     "data": {
      "application/vnd.plotly.v1+json": {
       "config": {
        "plotlyServerURL": "https://plot.ly"
       },
       "data": [
        {
         "alignmentgroup": "True",
         "bingroup": "x",
         "hovertemplate": "variable=0<br>value=%{x}<br>count=%{y}<extra></extra>",
         "legendgroup": "0",
         "marker": {
          "color": "#636efa",
          "pattern": {
           "shape": ""
          }
         },
         "name": "0",
         "offsetgroup": "0",
         "orientation": "v",
         "showlegend": true,
         "type": "histogram",
         "x": [
          10,
          6,
          4,
          6,
          2,
          14,
          12,
          8,
          8,
          5,
          9,
          9,
          6,
          8,
          6,
          8,
          9,
          9,
          12,
          6,
          11,
          9,
          10,
          9,
          7,
          9,
          1,
          8,
          2,
          12,
          10,
          22,
          9,
          10,
          11,
          4,
          15,
          2,
          13,
          11,
          2,
          13,
          2,
          10,
          10,
          11,
          10,
          2,
          12,
          3,
          11,
          11,
          1,
          10,
          3,
          15,
          12,
          12,
          12,
          13,
          2,
          12,
          14,
          3,
          11,
          1,
          10,
          11,
          9,
          9,
          3,
          11,
          3,
          9,
          10,
          2,
          10,
          2,
          10,
          8,
          1,
          9,
          2,
          12,
          3,
          16,
          13,
          2,
          10,
          1,
          9,
          10,
          7,
          7,
          3,
          10,
          1,
          11,
          10,
          2,
          11,
          1,
          12,
          9,
          10,
          10,
          2,
          14,
          1,
          10,
          15,
          4,
          13,
          2,
          14,
          11,
          10,
          8,
          2,
          13,
          23,
          14,
          4,
          9,
          2,
          14,
          9,
          12,
          14,
          3,
          19,
          5,
          13,
          1,
          1,
          7,
          2,
          11,
          15,
          14,
          14
         ],
         "xaxis": "x",
         "yaxis": "y"
        }
       ],
       "layout": {
        "barmode": "relative",
        "legend": {
         "title": {
          "text": "variable"
         },
         "tracegroupgap": 0
        },
        "template": {
         "data": {
          "bar": [
           {
            "error_x": {
             "color": "#2a3f5f"
            },
            "error_y": {
             "color": "#2a3f5f"
            },
            "marker": {
             "line": {
              "color": "#E5ECF6",
              "width": 0.5
             },
             "pattern": {
              "fillmode": "overlay",
              "size": 10,
              "solidity": 0.2
             }
            },
            "type": "bar"
           }
          ],
          "barpolar": [
           {
            "marker": {
             "line": {
              "color": "#E5ECF6",
              "width": 0.5
             },
             "pattern": {
              "fillmode": "overlay",
              "size": 10,
              "solidity": 0.2
             }
            },
            "type": "barpolar"
           }
          ],
          "carpet": [
           {
            "aaxis": {
             "endlinecolor": "#2a3f5f",
             "gridcolor": "white",
             "linecolor": "white",
             "minorgridcolor": "white",
             "startlinecolor": "#2a3f5f"
            },
            "baxis": {
             "endlinecolor": "#2a3f5f",
             "gridcolor": "white",
             "linecolor": "white",
             "minorgridcolor": "white",
             "startlinecolor": "#2a3f5f"
            },
            "type": "carpet"
           }
          ],
          "choropleth": [
           {
            "colorbar": {
             "outlinewidth": 0,
             "ticks": ""
            },
            "type": "choropleth"
           }
          ],
          "contour": [
           {
            "colorbar": {
             "outlinewidth": 0,
             "ticks": ""
            },
            "colorscale": [
             [
              0,
              "#0d0887"
             ],
             [
              0.1111111111111111,
              "#46039f"
             ],
             [
              0.2222222222222222,
              "#7201a8"
             ],
             [
              0.3333333333333333,
              "#9c179e"
             ],
             [
              0.4444444444444444,
              "#bd3786"
             ],
             [
              0.5555555555555556,
              "#d8576b"
             ],
             [
              0.6666666666666666,
              "#ed7953"
             ],
             [
              0.7777777777777778,
              "#fb9f3a"
             ],
             [
              0.8888888888888888,
              "#fdca26"
             ],
             [
              1,
              "#f0f921"
             ]
            ],
            "type": "contour"
           }
          ],
          "contourcarpet": [
           {
            "colorbar": {
             "outlinewidth": 0,
             "ticks": ""
            },
            "type": "contourcarpet"
           }
          ],
          "heatmap": [
           {
            "colorbar": {
             "outlinewidth": 0,
             "ticks": ""
            },
            "colorscale": [
             [
              0,
              "#0d0887"
             ],
             [
              0.1111111111111111,
              "#46039f"
             ],
             [
              0.2222222222222222,
              "#7201a8"
             ],
             [
              0.3333333333333333,
              "#9c179e"
             ],
             [
              0.4444444444444444,
              "#bd3786"
             ],
             [
              0.5555555555555556,
              "#d8576b"
             ],
             [
              0.6666666666666666,
              "#ed7953"
             ],
             [
              0.7777777777777778,
              "#fb9f3a"
             ],
             [
              0.8888888888888888,
              "#fdca26"
             ],
             [
              1,
              "#f0f921"
             ]
            ],
            "type": "heatmap"
           }
          ],
          "heatmapgl": [
           {
            "colorbar": {
             "outlinewidth": 0,
             "ticks": ""
            },
            "colorscale": [
             [
              0,
              "#0d0887"
             ],
             [
              0.1111111111111111,
              "#46039f"
             ],
             [
              0.2222222222222222,
              "#7201a8"
             ],
             [
              0.3333333333333333,
              "#9c179e"
             ],
             [
              0.4444444444444444,
              "#bd3786"
             ],
             [
              0.5555555555555556,
              "#d8576b"
             ],
             [
              0.6666666666666666,
              "#ed7953"
             ],
             [
              0.7777777777777778,
              "#fb9f3a"
             ],
             [
              0.8888888888888888,
              "#fdca26"
             ],
             [
              1,
              "#f0f921"
             ]
            ],
            "type": "heatmapgl"
           }
          ],
          "histogram": [
           {
            "marker": {
             "pattern": {
              "fillmode": "overlay",
              "size": 10,
              "solidity": 0.2
             }
            },
            "type": "histogram"
           }
          ],
          "histogram2d": [
           {
            "colorbar": {
             "outlinewidth": 0,
             "ticks": ""
            },
            "colorscale": [
             [
              0,
              "#0d0887"
             ],
             [
              0.1111111111111111,
              "#46039f"
             ],
             [
              0.2222222222222222,
              "#7201a8"
             ],
             [
              0.3333333333333333,
              "#9c179e"
             ],
             [
              0.4444444444444444,
              "#bd3786"
             ],
             [
              0.5555555555555556,
              "#d8576b"
             ],
             [
              0.6666666666666666,
              "#ed7953"
             ],
             [
              0.7777777777777778,
              "#fb9f3a"
             ],
             [
              0.8888888888888888,
              "#fdca26"
             ],
             [
              1,
              "#f0f921"
             ]
            ],
            "type": "histogram2d"
           }
          ],
          "histogram2dcontour": [
           {
            "colorbar": {
             "outlinewidth": 0,
             "ticks": ""
            },
            "colorscale": [
             [
              0,
              "#0d0887"
             ],
             [
              0.1111111111111111,
              "#46039f"
             ],
             [
              0.2222222222222222,
              "#7201a8"
             ],
             [
              0.3333333333333333,
              "#9c179e"
             ],
             [
              0.4444444444444444,
              "#bd3786"
             ],
             [
              0.5555555555555556,
              "#d8576b"
             ],
             [
              0.6666666666666666,
              "#ed7953"
             ],
             [
              0.7777777777777778,
              "#fb9f3a"
             ],
             [
              0.8888888888888888,
              "#fdca26"
             ],
             [
              1,
              "#f0f921"
             ]
            ],
            "type": "histogram2dcontour"
           }
          ],
          "mesh3d": [
           {
            "colorbar": {
             "outlinewidth": 0,
             "ticks": ""
            },
            "type": "mesh3d"
           }
          ],
          "parcoords": [
           {
            "line": {
             "colorbar": {
              "outlinewidth": 0,
              "ticks": ""
             }
            },
            "type": "parcoords"
           }
          ],
          "pie": [
           {
            "automargin": true,
            "type": "pie"
           }
          ],
          "scatter": [
           {
            "fillpattern": {
             "fillmode": "overlay",
             "size": 10,
             "solidity": 0.2
            },
            "type": "scatter"
           }
          ],
          "scatter3d": [
           {
            "line": {
             "colorbar": {
              "outlinewidth": 0,
              "ticks": ""
             }
            },
            "marker": {
             "colorbar": {
              "outlinewidth": 0,
              "ticks": ""
             }
            },
            "type": "scatter3d"
           }
          ],
          "scattercarpet": [
           {
            "marker": {
             "colorbar": {
              "outlinewidth": 0,
              "ticks": ""
             }
            },
            "type": "scattercarpet"
           }
          ],
          "scattergeo": [
           {
            "marker": {
             "colorbar": {
              "outlinewidth": 0,
              "ticks": ""
             }
            },
            "type": "scattergeo"
           }
          ],
          "scattergl": [
           {
            "marker": {
             "colorbar": {
              "outlinewidth": 0,
              "ticks": ""
             }
            },
            "type": "scattergl"
           }
          ],
          "scattermapbox": [
           {
            "marker": {
             "colorbar": {
              "outlinewidth": 0,
              "ticks": ""
             }
            },
            "type": "scattermapbox"
           }
          ],
          "scatterpolar": [
           {
            "marker": {
             "colorbar": {
              "outlinewidth": 0,
              "ticks": ""
             }
            },
            "type": "scatterpolar"
           }
          ],
          "scatterpolargl": [
           {
            "marker": {
             "colorbar": {
              "outlinewidth": 0,
              "ticks": ""
             }
            },
            "type": "scatterpolargl"
           }
          ],
          "scatterternary": [
           {
            "marker": {
             "colorbar": {
              "outlinewidth": 0,
              "ticks": ""
             }
            },
            "type": "scatterternary"
           }
          ],
          "surface": [
           {
            "colorbar": {
             "outlinewidth": 0,
             "ticks": ""
            },
            "colorscale": [
             [
              0,
              "#0d0887"
             ],
             [
              0.1111111111111111,
              "#46039f"
             ],
             [
              0.2222222222222222,
              "#7201a8"
             ],
             [
              0.3333333333333333,
              "#9c179e"
             ],
             [
              0.4444444444444444,
              "#bd3786"
             ],
             [
              0.5555555555555556,
              "#d8576b"
             ],
             [
              0.6666666666666666,
              "#ed7953"
             ],
             [
              0.7777777777777778,
              "#fb9f3a"
             ],
             [
              0.8888888888888888,
              "#fdca26"
             ],
             [
              1,
              "#f0f921"
             ]
            ],
            "type": "surface"
           }
          ],
          "table": [
           {
            "cells": {
             "fill": {
              "color": "#EBF0F8"
             },
             "line": {
              "color": "white"
             }
            },
            "header": {
             "fill": {
              "color": "#C8D4E3"
             },
             "line": {
              "color": "white"
             }
            },
            "type": "table"
           }
          ]
         },
         "layout": {
          "annotationdefaults": {
           "arrowcolor": "#2a3f5f",
           "arrowhead": 0,
           "arrowwidth": 1
          },
          "autotypenumbers": "strict",
          "coloraxis": {
           "colorbar": {
            "outlinewidth": 0,
            "ticks": ""
           }
          },
          "colorscale": {
           "diverging": [
            [
             0,
             "#8e0152"
            ],
            [
             0.1,
             "#c51b7d"
            ],
            [
             0.2,
             "#de77ae"
            ],
            [
             0.3,
             "#f1b6da"
            ],
            [
             0.4,
             "#fde0ef"
            ],
            [
             0.5,
             "#f7f7f7"
            ],
            [
             0.6,
             "#e6f5d0"
            ],
            [
             0.7,
             "#b8e186"
            ],
            [
             0.8,
             "#7fbc41"
            ],
            [
             0.9,
             "#4d9221"
            ],
            [
             1,
             "#276419"
            ]
           ],
           "sequential": [
            [
             0,
             "#0d0887"
            ],
            [
             0.1111111111111111,
             "#46039f"
            ],
            [
             0.2222222222222222,
             "#7201a8"
            ],
            [
             0.3333333333333333,
             "#9c179e"
            ],
            [
             0.4444444444444444,
             "#bd3786"
            ],
            [
             0.5555555555555556,
             "#d8576b"
            ],
            [
             0.6666666666666666,
             "#ed7953"
            ],
            [
             0.7777777777777778,
             "#fb9f3a"
            ],
            [
             0.8888888888888888,
             "#fdca26"
            ],
            [
             1,
             "#f0f921"
            ]
           ],
           "sequentialminus": [
            [
             0,
             "#0d0887"
            ],
            [
             0.1111111111111111,
             "#46039f"
            ],
            [
             0.2222222222222222,
             "#7201a8"
            ],
            [
             0.3333333333333333,
             "#9c179e"
            ],
            [
             0.4444444444444444,
             "#bd3786"
            ],
            [
             0.5555555555555556,
             "#d8576b"
            ],
            [
             0.6666666666666666,
             "#ed7953"
            ],
            [
             0.7777777777777778,
             "#fb9f3a"
            ],
            [
             0.8888888888888888,
             "#fdca26"
            ],
            [
             1,
             "#f0f921"
            ]
           ]
          },
          "colorway": [
           "#636efa",
           "#EF553B",
           "#00cc96",
           "#ab63fa",
           "#FFA15A",
           "#19d3f3",
           "#FF6692",
           "#B6E880",
           "#FF97FF",
           "#FECB52"
          ],
          "font": {
           "color": "#2a3f5f"
          },
          "geo": {
           "bgcolor": "white",
           "lakecolor": "white",
           "landcolor": "#E5ECF6",
           "showlakes": true,
           "showland": true,
           "subunitcolor": "white"
          },
          "hoverlabel": {
           "align": "left"
          },
          "hovermode": "closest",
          "mapbox": {
           "style": "light"
          },
          "paper_bgcolor": "white",
          "plot_bgcolor": "#E5ECF6",
          "polar": {
           "angularaxis": {
            "gridcolor": "white",
            "linecolor": "white",
            "ticks": ""
           },
           "bgcolor": "#E5ECF6",
           "radialaxis": {
            "gridcolor": "white",
            "linecolor": "white",
            "ticks": ""
           }
          },
          "scene": {
           "xaxis": {
            "backgroundcolor": "#E5ECF6",
            "gridcolor": "white",
            "gridwidth": 2,
            "linecolor": "white",
            "showbackground": true,
            "ticks": "",
            "zerolinecolor": "white"
           },
           "yaxis": {
            "backgroundcolor": "#E5ECF6",
            "gridcolor": "white",
            "gridwidth": 2,
            "linecolor": "white",
            "showbackground": true,
            "ticks": "",
            "zerolinecolor": "white"
           },
           "zaxis": {
            "backgroundcolor": "#E5ECF6",
            "gridcolor": "white",
            "gridwidth": 2,
            "linecolor": "white",
            "showbackground": true,
            "ticks": "",
            "zerolinecolor": "white"
           }
          },
          "shapedefaults": {
           "line": {
            "color": "#2a3f5f"
           }
          },
          "ternary": {
           "aaxis": {
            "gridcolor": "white",
            "linecolor": "white",
            "ticks": ""
           },
           "baxis": {
            "gridcolor": "white",
            "linecolor": "white",
            "ticks": ""
           },
           "bgcolor": "#E5ECF6",
           "caxis": {
            "gridcolor": "white",
            "linecolor": "white",
            "ticks": ""
           }
          },
          "title": {
           "x": 0.05
          },
          "xaxis": {
           "automargin": true,
           "gridcolor": "white",
           "linecolor": "white",
           "ticks": "",
           "title": {
            "standoff": 15
           },
           "zerolinecolor": "white",
           "zerolinewidth": 2
          },
          "yaxis": {
           "automargin": true,
           "gridcolor": "white",
           "linecolor": "white",
           "ticks": "",
           "title": {
            "standoff": 15
           },
           "zerolinecolor": "white",
           "zerolinewidth": 2
          }
         }
        },
        "title": {
         "text": "频数分布直方图"
        },
        "xaxis": {
         "anchor": "y",
         "domain": [
          0,
          1
         ],
         "title": {
          "text": "value"
         }
        },
        "yaxis": {
         "anchor": "x",
         "domain": [
          0,
          1
         ],
         "title": {
          "text": "count"
         }
        }
       }
      }
     },
     "metadata": {},
     "output_type": "display_data"
    }
   ],
   "source": [
    "fig = px.histogram(shift_counts, title='频数分布直方图')\n",
    "fig.show()"
   ]
  },
  {
   "cell_type": "markdown",
   "metadata": {},
   "source": [
    "## 朴素思考：视为单个时间序列"
   ]
  },
  {
   "cell_type": "markdown",
   "metadata": {},
   "source": [
    "### 数据准备"
   ]
  },
  {
   "cell_type": "code",
   "execution_count": 34,
   "metadata": {},
   "outputs": [],
   "source": [
    "import pandas as pd\n",
    "import numpy as np\n",
    "from sklearn.model_selection import StratifiedKFold\n",
    "from sklearn.metrics import accuracy_score, f1_score, recall_score, precision_score, roc_auc_score, roc_curve\n",
    "from sklearn.preprocessing import StandardScaler\n",
    "import torch\n",
    "import torch.nn as nn\n",
    "import torch.optim as optim\n",
    "from sklearn.utils import shuffle\n",
    "from torch.utils.data import TensorDataset, DataLoader\n",
    "import matplotlib.pyplot as plt"
   ]
  },
  {
   "cell_type": "code",
   "execution_count": 35,
   "metadata": {},
   "outputs": [],
   "source": [
    "df_new['时间X1'] = pd.to_datetime(df_new['时间X1'])\n",
    "#把缺陷检测质量风险 Y按照每一个id进行分组，每一个组的值和第一个值一样\n",
    "df_new['缺陷检测质量风险 Y'] = df_new.groupby('shift_id')['缺陷检测质量风险 Y'].transform(lambda x: x.fillna(x.iloc[0]))\n",
    "df_new['缺陷检测质量风险 Y'] = df_new['缺陷检测质量风险 Y'].map({'有质量隐患': 1, '无质量隐患': 0})\n"
   ]
  },
  {
   "cell_type": "code",
   "execution_count": 36,
   "metadata": {},
   "outputs": [
    {
     "data": {
      "text/html": [
       "<div>\n",
       "<style scoped>\n",
       "    .dataframe tbody tr th:only-of-type {\n",
       "        vertical-align: middle;\n",
       "    }\n",
       "\n",
       "    .dataframe tbody tr th {\n",
       "        vertical-align: top;\n",
       "    }\n",
       "\n",
       "    .dataframe thead th {\n",
       "        text-align: right;\n",
       "    }\n",
       "</style>\n",
       "<table border=\"1\" class=\"dataframe\">\n",
       "  <thead>\n",
       "    <tr style=\"text-align: right;\">\n",
       "      <th></th>\n",
       "      <th>时间X1</th>\n",
       "      <th>缺陷累计产生数量X2</th>\n",
       "      <th>特征X3</th>\n",
       "      <th>特征X4</th>\n",
       "      <th>特征X5</th>\n",
       "      <th>特征X6</th>\n",
       "      <th>特征X7</th>\n",
       "      <th>特征X8</th>\n",
       "      <th>特征X9</th>\n",
       "      <th>缺陷检测质量风险 Y</th>\n",
       "      <th>shift_id</th>\n",
       "    </tr>\n",
       "  </thead>\n",
       "  <tbody>\n",
       "    <tr>\n",
       "      <th>0</th>\n",
       "      <td>2050-12-31 06:43:39</td>\n",
       "      <td>0</td>\n",
       "      <td>40</td>\n",
       "      <td>43</td>\n",
       "      <td>0</td>\n",
       "      <td>0</td>\n",
       "      <td>0</td>\n",
       "      <td>0</td>\n",
       "      <td>0</td>\n",
       "      <td>0</td>\n",
       "      <td>1</td>\n",
       "    </tr>\n",
       "    <tr>\n",
       "      <th>1</th>\n",
       "      <td>2050-12-31 07:43:11</td>\n",
       "      <td>3</td>\n",
       "      <td>13150</td>\n",
       "      <td>13267</td>\n",
       "      <td>0</td>\n",
       "      <td>0</td>\n",
       "      <td>4</td>\n",
       "      <td>2</td>\n",
       "      <td>21</td>\n",
       "      <td>0</td>\n",
       "      <td>1</td>\n",
       "    </tr>\n",
       "    <tr>\n",
       "      <th>2</th>\n",
       "      <td>2050-12-31 08:36:42</td>\n",
       "      <td>6</td>\n",
       "      <td>31190</td>\n",
       "      <td>31283</td>\n",
       "      <td>3</td>\n",
       "      <td>0</td>\n",
       "      <td>5</td>\n",
       "      <td>2</td>\n",
       "      <td>24</td>\n",
       "      <td>0</td>\n",
       "      <td>1</td>\n",
       "    </tr>\n",
       "  </tbody>\n",
       "</table>\n",
       "</div>"
      ],
      "text/plain": [
       "                 时间X1  缺陷累计产生数量X2   特征X3   特征X4  特征X5  特征X6  特征X7  特征X8  特征X9  \\\n",
       "0 2050-12-31 06:43:39           0     40     43     0     0     0     0     0   \n",
       "1 2050-12-31 07:43:11           3  13150  13267     0     0     4     2    21   \n",
       "2 2050-12-31 08:36:42           6  31190  31283     3     0     5     2    24   \n",
       "\n",
       "   缺陷检测质量风险 Y  shift_id  \n",
       "0           0         1  \n",
       "1           0         1  \n",
       "2           0         1  "
      ]
     },
     "execution_count": 36,
     "metadata": {},
     "output_type": "execute_result"
    }
   ],
   "source": [
    "df_new.head(3)"
   ]
  },
  {
   "cell_type": "code",
   "execution_count": 37,
   "metadata": {},
   "outputs": [],
   "source": [
    "df_new['时间X1'] = pd.to_datetime(df_new['时间X1']).astype(np.int64) // 10**9  # 转换为Unix时间戳\n",
    "X = df_new.drop(columns=['缺陷检测质量风险 Y','shift_id']).values \n",
    "Y = df_new['缺陷检测质量风险 Y'].values\n",
    "scaler = StandardScaler()\n",
    "X = scaler.fit_transform(X)\n",
    "X_tensor = torch.FloatTensor(X)\n",
    "Y_tensor = torch.FloatTensor(Y)\n",
    "\n"
   ]
  },
  {
   "cell_type": "markdown",
   "metadata": {},
   "source": [
    "### 模型定义"
   ]
  },
  {
   "cell_type": "markdown",
   "metadata": {},
   "source": [
    "#### DNN"
   ]
  },
  {
   "cell_type": "code",
   "execution_count": 38,
   "metadata": {},
   "outputs": [],
   "source": [
    "class DNN(nn.Module):\n",
    "    def __init__(self, input_dim):\n",
    "        super(DNN, self).__init__()\n",
    "        self.model = nn.Sequential(\n",
    "            # 第一层：输入层到第一个隐藏层\n",
    "            nn.Linear(input_dim, 256),\n",
    "            nn.ReLU(),\n",
    "            nn.BatchNorm1d(256),\n",
    "            nn.Dropout(0.3),\n",
    "            \n",
    "            # 第二层：第一个隐藏层到第二个隐藏层\n",
    "            nn.Linear(256, 128),\n",
    "            nn.ReLU(),\n",
    "            nn.BatchNorm1d(128),\n",
    "            nn.Dropout(0.3),\n",
    "            \n",
    "            # 第三层：第二个隐藏层到第三个隐藏层\n",
    "            nn.Linear(128, 64),\n",
    "            nn.ReLU(),\n",
    "            nn.BatchNorm1d(64),\n",
    "            nn.Dropout(0.3),\n",
    "            \n",
    "            # 输出层\n",
    "            nn.Linear(64, 1),\n",
    "            nn.Sigmoid()\n",
    "        )\n",
    "        \n",
    "    def forward(self, x):\n",
    "        return self.model(x)"
   ]
  },
  {
   "cell_type": "markdown",
   "metadata": {},
   "source": [
    "#### RNN"
   ]
  },
  {
   "cell_type": "code",
   "execution_count": 39,
   "metadata": {},
   "outputs": [],
   "source": [
    "class RNN(nn.Module):\n",
    "    def __init__(self, input_size):\n",
    "        super(RNN, self).__init__()\n",
    "        self.rnn = nn.RNN(input_size, 64, batch_first=True)\n",
    "        self.dropout = nn.Dropout(0.3)\n",
    "        self.fc = nn.Linear(64, 1)\n",
    "        self.sigmoid = nn.Sigmoid()\n",
    "        \n",
    "    def forward(self, x):\n",
    "        x = x.unsqueeze(2)  # 添加feature维度\n",
    "        output, _ = self.rnn(x)\n",
    "        output = output[:, -1, :]  # 取最后一个时间步\n",
    "        x = self.dropout(output)\n",
    "        x = self.sigmoid(self.fc(x))\n",
    "        return x"
   ]
  },
  {
   "cell_type": "markdown",
   "metadata": {},
   "source": [
    "#### LSTM"
   ]
  },
  {
   "cell_type": "code",
   "execution_count": 40,
   "metadata": {},
   "outputs": [],
   "source": [
    "class LSTM(nn.Module):\n",
    "    def __init__(self, input_size):\n",
    "        super(LSTM, self).__init__()\n",
    "        self.lstm = nn.LSTM(input_size, 64, batch_first=True)\n",
    "        self.dropout = nn.Dropout(0.3)\n",
    "        self.fc = nn.Linear(64, 1)\n",
    "        self.sigmoid = nn.Sigmoid()\n",
    "        \n",
    "    def forward(self, x):\n",
    "        x = x.unsqueeze(2)  # 添加feature维度\n",
    "        output, _ = self.lstm(x)\n",
    "        output = output[:, -1, :]  # 取最后一个时间步\n",
    "        x = self.dropout(output)\n",
    "        x = self.sigmoid(self.fc(x))\n",
    "        return x"
   ]
  },
  {
   "cell_type": "markdown",
   "metadata": {},
   "source": [
    "#### 训练与评估函数"
   ]
  },
  {
   "cell_type": "code",
   "execution_count": 41,
   "metadata": {},
   "outputs": [],
   "source": [
    "\n",
    "# 训练函数\n",
    "def train_model(model, train_loader, criterion, optimizer, device):\n",
    "    model.train()\n",
    "    for batch_x, batch_y in train_loader:\n",
    "        batch_x, batch_y = batch_x.to(device), batch_y.to(device)\n",
    "        optimizer.zero_grad()\n",
    "        outputs = model(batch_x)\n",
    "        loss = criterion(outputs.squeeze(), batch_y)\n",
    "        loss.backward()\n",
    "        optimizer.step()\n",
    "\n",
    "\n",
    "# 评估函数        \n",
    "def evaluate_model(model, test_loader, device):\n",
    "    model.eval()\n",
    "    all_preds = []\n",
    "    all_labels = []\n",
    "    with torch.no_grad():\n",
    "        for batch_x, batch_y in test_loader:\n",
    "            batch_x = batch_x.to(device)\n",
    "            outputs = model(batch_x)\n",
    "            all_preds.extend(outputs.cpu().numpy())\n",
    "            all_labels.extend(batch_y.numpy())\n",
    "    return np.array(all_preds), np.array(all_labels)"
   ]
  },
  {
   "cell_type": "markdown",
   "metadata": {},
   "source": [
    "#### 设置参数与初始化指标"
   ]
  },
  {
   "cell_type": "code",
   "execution_count": 42,
   "metadata": {},
   "outputs": [],
   "source": [
    "# 设置参数\n",
    "device = torch.device('cuda' if torch.cuda.is_available() else 'cpu') # 我的电脑是cpu，但是可以改成cuda\n",
    "batch_size = 32\n",
    "epochs = 10\n",
    "criterion = nn.BCELoss() # 二分类交叉熵损失函数\n",
    "\n",
    "# 存储指标\n",
    "accuracies = []\n",
    "f1_scores = []\n",
    "sensitivities = []\n",
    "precisions = []\n",
    "auc_scores = []\n",
    "roc_curves = []\n"
   ]
  },
  {
   "cell_type": "markdown",
   "metadata": {},
   "source": [
    "#### 交叉验证"
   ]
  },
  {
   "cell_type": "code",
   "execution_count": 45,
   "metadata": {},
   "outputs": [
    {
     "name": "stdout",
     "output_type": "stream",
     "text": [
      "训练第 1 折\n",
      "训练 DNN 模型...\n"
     ]
    },
    {
     "name": "stderr",
     "output_type": "stream",
     "text": [
      "d:\\Python\\Lib\\site-packages\\plotly\\matplotlylib\\renderer.py:609: UserWarning:\n",
      "\n",
      "I found a path object that I don't think is part of a bar chart. Ignoring.\n",
      "\n"
     ]
    },
    {
     "name": "stdout",
     "output_type": "stream",
     "text": [
      "\n",
      "DNN 模型性能:\n",
      "Average accuracy: 0.8453\n",
      "Average f1: 0.8358\n",
      "Average sensitivity: 0.8046\n",
      "Average precision: 0.8770\n",
      "Average auc: 0.9223\n",
      "训练 RNN 模型...\n"
     ]
    },
    {
     "name": "stderr",
     "output_type": "stream",
     "text": [
      "d:\\Python\\Lib\\site-packages\\plotly\\matplotlylib\\renderer.py:609: UserWarning:\n",
      "\n",
      "I found a path object that I don't think is part of a bar chart. Ignoring.\n",
      "\n"
     ]
    },
    {
     "name": "stdout",
     "output_type": "stream",
     "text": [
      "\n",
      "RNN 模型性能:\n",
      "Average accuracy: 0.8386\n",
      "Average f1: 0.8259\n",
      "Average sensitivity: 0.7845\n",
      "Average precision: 0.8788\n",
      "Average auc: 0.9122\n",
      "训练 LSTM 模型...\n"
     ]
    },
    {
     "name": "stderr",
     "output_type": "stream",
     "text": [
      "d:\\Python\\Lib\\site-packages\\plotly\\matplotlylib\\renderer.py:609: UserWarning:\n",
      "\n",
      "I found a path object that I don't think is part of a bar chart. Ignoring.\n",
      "\n"
     ]
    },
    {
     "name": "stdout",
     "output_type": "stream",
     "text": [
      "\n",
      "LSTM 模型性能:\n",
      "Average accuracy: 0.7814\n",
      "Average f1: 0.7282\n",
      "Average sensitivity: 0.6741\n",
      "Average precision: 0.8258\n",
      "Average auc: 0.8511\n",
      "训练第 2 折\n",
      "训练 DNN 模型...\n",
      "\n",
      "DNN 模型性能:\n",
      "Average accuracy: 0.7848\n",
      "Average f1: 0.7335\n",
      "Average sensitivity: 0.6865\n",
      "Average precision: 0.8212\n",
      "Average auc: 0.8576\n",
      "训练 RNN 模型...\n",
      "\n",
      "RNN 模型性能:\n",
      "Average accuracy: 0.7831\n",
      "Average f1: 0.7304\n",
      "Average sensitivity: 0.6747\n",
      "Average precision: 0.8261\n",
      "Average auc: 0.8572\n",
      "训练 LSTM 模型...\n",
      "\n",
      "LSTM 模型性能:\n",
      "Average accuracy: 0.7502\n",
      "Average f1: 0.6833\n",
      "Average sensitivity: 0.6153\n",
      "Average precision: 0.8048\n",
      "Average auc: 0.8130\n",
      "训练第 3 折\n",
      "训练 DNN 模型...\n",
      "\n",
      "DNN 模型性能:\n",
      "Average accuracy: 0.7477\n",
      "Average f1: 0.6851\n",
      "Average sensitivity: 0.6329\n",
      "Average precision: 0.7876\n",
      "Average auc: 0.8171\n",
      "训练 RNN 模型...\n",
      "\n",
      "RNN 模型性能:\n",
      "Average accuracy: 0.7941\n",
      "Average f1: 0.7746\n",
      "Average sensitivity: 0.7453\n",
      "Average precision: 0.8199\n",
      "Average auc: 0.8674\n",
      "训练 LSTM 模型...\n",
      "\n",
      "LSTM 模型性能:\n",
      "Average accuracy: 0.7367\n",
      "Average f1: 0.7028\n",
      "Average sensitivity: 0.6667\n",
      "Average precision: 0.7610\n",
      "Average auc: 0.7992\n",
      "训练第 4 折\n",
      "训练 DNN 模型...\n",
      "\n",
      "DNN 模型性能:\n",
      "Average accuracy: 0.7426\n",
      "Average f1: 0.7071\n",
      "Average sensitivity: 0.6615\n",
      "Average precision: 0.7761\n",
      "Average auc: 0.7984\n",
      "训练 RNN 模型...\n",
      "\n",
      "RNN 模型性能:\n",
      "Average accuracy: 0.7654\n",
      "Average f1: 0.7431\n",
      "Average sensitivity: 0.7094\n",
      "Average precision: 0.7872\n",
      "Average auc: 0.8275\n",
      "训练 LSTM 模型...\n",
      "\n",
      "LSTM 模型性能:\n",
      "Average accuracy: 0.7249\n",
      "Average f1: 0.6765\n",
      "Average sensitivity: 0.6188\n",
      "Average precision: 0.7652\n",
      "Average auc: 0.7779\n",
      "训练第 5 折\n",
      "训练 DNN 模型...\n",
      "\n",
      "DNN 模型性能:\n",
      "Average accuracy: 0.7332\n",
      "Average f1: 0.6803\n",
      "Average sensitivity: 0.6047\n",
      "Average precision: 0.7909\n",
      "Average auc: 0.7927\n",
      "训练 RNN 模型...\n",
      "\n",
      "RNN 模型性能:\n",
      "Average accuracy: 0.7574\n",
      "Average f1: 0.7119\n",
      "Average sensitivity: 0.6364\n",
      "Average precision: 0.8200\n",
      "Average auc: 0.8401\n",
      "训练 LSTM 模型...\n",
      "\n",
      "LSTM 模型性能:\n",
      "Average accuracy: 0.6997\n",
      "Average f1: 0.6466\n",
      "Average sensitivity: 0.5723\n",
      "Average precision: 0.7540\n",
      "Average auc: 0.7736\n"
     ]
    },
    {
     "data": {
      "application/vnd.jupyter.widget-view+json": {
       "model_id": "1455124174d74923a4d212512f04f106",
       "version_major": 2,
       "version_minor": 0
      },
      "text/plain": [
       "VBox(children=(Label(value='0.057 MB of 0.057 MB uploaded\\r'), FloatProgress(value=1.0, max=1.0)))"
      ]
     },
     "metadata": {},
     "output_type": "display_data"
    },
    {
     "data": {
      "text/html": [
       "\n",
       "    <style>\n",
       "        .wandb-row {\n",
       "            display: flex;\n",
       "            flex-direction: row;\n",
       "            flex-wrap: wrap;\n",
       "            justify-content: flex-start;\n",
       "            width: 100%;\n",
       "        }\n",
       "        .wandb-col {\n",
       "            display: flex;\n",
       "            flex-direction: column;\n",
       "            flex-basis: 100%;\n",
       "            flex: 1;\n",
       "            padding: 10px;\n",
       "        }\n",
       "    </style>\n",
       "<div class=\"wandb-row\"><div class=\"wandb-col\"><h3>Run history:</h3><br/><table class=\"wandb\"><tr><td>DNN/accuracy</td><td>▄▇▆▆▆█▅▆▇▆▅▇▆▂▅▇▇█▆▂▇▇██▃▆▇▅▅▅▆▆▇▁▄▆▅▆▇▆</td></tr><tr><td>DNN/auc</td><td>▆▆▇▆▅▆▇▆▇▇▇▇▇▆▄▇████▄▅▅▆▅▆▇▆▃▅▆▇▇▇▁▅▆▆▇▇</td></tr><tr><td>DNN/epoch</td><td>▁▂▄▅▆▁▂▃▄▅█▃▃▄▅▁▂▃▅▆▇█▂▃▄▆▆▇█▁▄▅▆▆█▂▃▃▄▇</td></tr><tr><td>DNN/f1</td><td>▂▆▆▇▆█▅▇▁▅▇▇▇▇█▄▇▇▇███▃▄▆▆▇▆▄▅▇▇▆▆▇▅▅▅▇▆</td></tr><tr><td>DNN/final_accuracy</td><td>█▄▂▂▁</td></tr><tr><td>DNN/final_auc</td><td>█▅▂▁▁</td></tr><tr><td>DNN/final_f1</td><td>█▃▁▂▁</td></tr><tr><td>DNN/final_precision</td><td>█▄▂▁▂</td></tr><tr><td>DNN/final_sensitivity</td><td>█▄▂▃▁</td></tr><tr><td>DNN/fold</td><td>▁▁▁▁▁▁▁▁▁▁▁▁▁▁▁▃▃▃▃▃▃▃▅▅▅▅▅▅▆▆▆▆▆▆▆█████</td></tr><tr><td>DNN/precision</td><td>█▇█▇▆█▅▆▆▇▆▆▃▄▇█▇▅▄▅▇▄▃▃▃▄▃▅▁▄▅▆▆▅▅▅▄▆▅▇</td></tr><tr><td>DNN/sensitivity</td><td>▁▄▅▆▅▄▄▇▇▇▇▁▅▇▆▆▆▇▆▇███▇▇▅▅▇▅▇▆▆▇▆▆▂▃▅▅▅</td></tr><tr><td>LSTM/accuracy</td><td>▃▃▃▄▄▄▄▄▄▂▅▆▇▇▇█▂▄▄▅▅▅▅▅▅▄▄▆▆▆▆▆▃▁▂▃▄▃▃▄</td></tr><tr><td>LSTM/auc</td><td>▄▄▄▅▅▆▆▅▅▄▅▇████▄▄▄▅▆▆▆▅▅▄▅▆▇▇▇▆▇▁▁▃▄▄▄▅</td></tr><tr><td>LSTM/epoch</td><td>▁▂▃▃▄▆▆█▁▂▃▄▅▆▆█▁▂▃▃▅▆▆▇█▂▃▃▄▅▆▇█▁▂▃▄▆▆█</td></tr><tr><td>LSTM/f1</td><td>▂▅▆▅▄▄▄▃█▅▇▇▇▇▆▇▁▅▅▅▇▅▆▅▆▃▆▇▆▇▇▆▁▄▅▆▅▆▅▆</td></tr><tr><td>LSTM/final_accuracy</td><td>█▅▄▃▁</td></tr><tr><td>LSTM/final_auc</td><td>█▅▃▁▁</td></tr><tr><td>LSTM/final_f1</td><td>█▄▆▄▁</td></tr><tr><td>LSTM/final_precision</td><td>█▆▂▂▁</td></tr><tr><td>LSTM/final_sensitivity</td><td>█▄▇▄▁</td></tr><tr><td>LSTM/fold</td><td>▁▁▁▁▁▁▁▁▃▃▃▃▃▃▃▅▅▅▅▅▅▅▅▅▆▆▆▆▆▆▆▆████████</td></tr><tr><td>LSTM/precision</td><td>▂▂▃▃▃▄▄▄▂▄▃▄▄▅█▇▂▃▃▅▃▄▄▅▄▄▃▄▅▄▅▅▅▄▁▂▂▃▂▃</td></tr><tr><td>LSTM/sensitivity</td><td>▁▄▄▄▂▃▂▂▂█▄▅▅▄▃▁▃▄▃▄▃▃▃▃▂▄▅▃▄▄▃▃▁▃▄▅▄▄▄▄</td></tr><tr><td>RNN/accuracy</td><td>▃▃▄▅▆▆▆▇█▂▄▅▆▇▆██▃▃▅▇▇▇▇▇▃▄▅▅▅▆▆▇▁▂▃▃▄▆▆</td></tr><tr><td>RNN/auc</td><td>▂▃▅▅▆▆▆▇▇▂▄▅▆▆▆██▃▃▅▇▇▇▇▇▃▄▅▅▆▆▆▆▇▁▄▃▄▆▇</td></tr><tr><td>RNN/epoch</td><td>▁▂▃▃▄▆▆▇█▁▃▃▄▅▆▇█▁▂▃▄▅▆▆▇▁▂▃▅▆▇█▁▂▃▄▅▆▆█</td></tr><tr><td>RNN/f1</td><td>▄▄▅▆▇▆▇▇█▁▅▆▇▇▇██▄▄▅▇█▇▇█▅▆▆▆▆▇▇▇▃▅▅▄▆▇▆</td></tr><tr><td>RNN/final_accuracy</td><td>█▃▄▂▁</td></tr><tr><td>RNN/final_auc</td><td>█▃▄▁▂</td></tr><tr><td>RNN/final_f1</td><td>█▂▅▃▁</td></tr><tr><td>RNN/final_precision</td><td>█▄▃▁▄</td></tr><tr><td>RNN/final_sensitivity</td><td>█▃▆▄▁</td></tr><tr><td>RNN/fold</td><td>▁▁▁▁▁▁▁▁▁▃▃▃▃▃▃▃▅▅▅▅▅▅▅▅▅▆▆▆▆▆▆▆▆███████</td></tr><tr><td>RNN/precision</td><td>▃▃▅▆▇█▅██▄▄▅▅▆▆▇▃▄▇▇▆▆▇▆▄▅▄▆▆▆▇▇▁▂▇▃▃▄▅▆</td></tr><tr><td>RNN/sensitivity</td><td>▄▃▄▅▆▅▇▇▇▁▅█▇▆██▄▄▄▅▆██▆█▅▆▇▅▆█▇▇▃▆▄▄▆▇▆</td></tr></table><br/></div><div class=\"wandb-col\"><h3>Run summary:</h3><br/><table class=\"wandb\"><tr><td>DNN/accuracy</td><td>0.82627</td></tr><tr><td>DNN/auc</td><td>0.93204</td></tr><tr><td>DNN/epoch</td><td>10</td></tr><tr><td>DNN/f1</td><td>0.80383</td></tr><tr><td>DNN/final_accuracy</td><td>0.73319</td></tr><tr><td>DNN/final_auc</td><td>0.79266</td></tr><tr><td>DNN/final_f1</td><td>0.68026</td></tr><tr><td>DNN/final_precision</td><td>0.79086</td></tr><tr><td>DNN/final_sensitivity</td><td>0.60466</td></tr><tr><td>DNN/fold</td><td>5</td></tr><tr><td>DNN/precision</td><td>0.90323</td></tr><tr><td>DNN/sensitivity</td><td>0.72414</td></tr><tr><td>LSTM/accuracy</td><td>0.5678</td></tr><tr><td>LSTM/auc</td><td>0.58958</td></tr><tr><td>LSTM/epoch</td><td>10</td></tr><tr><td>LSTM/f1</td><td>0.51887</td></tr><tr><td>LSTM/final_accuracy</td><td>0.69967</td></tr><tr><td>LSTM/final_auc</td><td>0.77357</td></tr><tr><td>LSTM/final_f1</td><td>0.64655</td></tr><tr><td>LSTM/final_precision</td><td>0.75399</td></tr><tr><td>LSTM/final_sensitivity</td><td>0.5723</td></tr><tr><td>LSTM/fold</td><td>5</td></tr><tr><td>LSTM/precision</td><td>0.57292</td></tr><tr><td>LSTM/sensitivity</td><td>0.47414</td></tr><tr><td>RNN/accuracy</td><td>0.7161</td></tr><tr><td>RNN/auc</td><td>0.8523</td></tr><tr><td>RNN/epoch</td><td>10</td></tr><tr><td>RNN/f1</td><td>0.67317</td></tr><tr><td>RNN/final_accuracy</td><td>0.75742</td></tr><tr><td>RNN/final_auc</td><td>0.84006</td></tr><tr><td>RNN/final_f1</td><td>0.71187</td></tr><tr><td>RNN/final_precision</td><td>0.81999</td></tr><tr><td>RNN/final_sensitivity</td><td>0.63644</td></tr><tr><td>RNN/fold</td><td>5</td></tr><tr><td>RNN/precision</td><td>0.77528</td></tr><tr><td>RNN/sensitivity</td><td>0.59483</td></tr></table><br/></div></div>"
      ],
      "text/plain": [
       "<IPython.core.display.HTML object>"
      ]
     },
     "metadata": {},
     "output_type": "display_data"
    },
    {
     "data": {
      "text/html": [
       " View run <strong style=\"color:#cdcd00\">model-comparison</strong> at: <a href='https://wandb.ai/2796868789-/defect-detection/runs/pzex070i' target=\"_blank\">https://wandb.ai/2796868789-/defect-detection/runs/pzex070i</a><br/> View project at: <a href='https://wandb.ai/2796868789-/defect-detection' target=\"_blank\">https://wandb.ai/2796868789-/defect-detection</a><br/>Synced 5 W&B file(s), 0 media file(s), 8 artifact file(s) and 7 other file(s)"
      ],
      "text/plain": [
       "<IPython.core.display.HTML object>"
      ]
     },
     "metadata": {},
     "output_type": "display_data"
    },
    {
     "data": {
      "text/html": [
       "Find logs at: <code>.\\wandb\\run-20241209_122249-pzex070i\\logs</code>"
      ],
      "text/plain": [
       "<IPython.core.display.HTML object>"
      ]
     },
     "metadata": {},
     "output_type": "display_data"
    }
   ],
   "source": [
    "# 初始化wandb项目\n",
    "wandb.init(project=\"defect-detection\", name=\"model-comparison\")\n",
    "\n",
    "# 配置实验参数\n",
    "config = wandb.config\n",
    "config.batch_size = batch_size\n",
    "config.epochs = epochs\n",
    "config.learning_rate = 0.001\n",
    "config.n_splits = 5\n",
    "\n",
    "# 交叉验证\n",
    "skf = StratifiedKFold(n_splits=config.n_splits, shuffle=True, random_state=42)\n",
    "for fold, (train_idx, test_idx) in enumerate(skf.split(X_tensor, Y_tensor)):\n",
    "    print(f\"训练第 {fold + 1} 折\")\n",
    "    \n",
    "    # 准备数据\n",
    "    X_train, X_test = X_tensor[train_idx], X_tensor[test_idx]\n",
    "    Y_train, Y_test = Y_tensor[train_idx], Y_tensor[test_idx]\n",
    "    \n",
    "    train_dataset = TensorDataset(X_train, Y_train)\n",
    "    train_loader = DataLoader(train_dataset, batch_size=config.batch_size, shuffle=True)\n",
    "    test_dataset = TensorDataset(X_test, Y_test)\n",
    "    test_loader = DataLoader(test_dataset, batch_size=config.batch_size)\n",
    "    \n",
    "    # 创建模型字典\n",
    "    models = {\n",
    "        'DNN': DNN(X_train.shape[1]).to(device),\n",
    "        'RNN': RNN(1).to(device),\n",
    "        'LSTM': LSTM(1).to(device)\n",
    "    }\n",
    "    \n",
    "    # 为每个模型创建优化器\n",
    "    optimizers = {\n",
    "        name: optim.Adam(model.parameters(), lr=config.learning_rate) \n",
    "        for name, model in models.items()\n",
    "    }\n",
    "    \n",
    "    # 训练每个模型\n",
    "    for model_name, model in models.items():\n",
    "        print(f\"训练 {model_name} 模型...\")\n",
    "        optimizer = optimizers[model_name]\n",
    "        \n",
    "        # 训练循环\n",
    "        for epoch in range(config.epochs):\n",
    "            train_model(model, train_loader, criterion, optimizer, device)\n",
    "            \n",
    "            # 评估当前epoch\n",
    "            Y_pred, Y_true = evaluate_model(model, test_loader, device)\n",
    "            Y_pred_binary = (Y_pred > 0.5).astype(int)\n",
    "            \n",
    "            # 记录每个epoch的指标\n",
    "            wandb.log({\n",
    "                f\"{model_name}/fold\": fold + 1,\n",
    "                f\"{model_name}/epoch\": epoch + 1,\n",
    "                f\"{model_name}/accuracy\": accuracy_score(Y_true, Y_pred_binary),\n",
    "                f\"{model_name}/f1\": f1_score(Y_true, Y_pred_binary),\n",
    "                f\"{model_name}/sensitivity\": recall_score(Y_true, Y_pred_binary),\n",
    "                f\"{model_name}/precision\": precision_score(Y_true, Y_pred_binary),\n",
    "                f\"{model_name}/auc\": roc_auc_score(Y_true, Y_pred)\n",
    "            })\n",
    "        \n",
    "        # 最终评估\n",
    "        Y_pred, Y_true = evaluate_model(model, test_loader, device)\n",
    "        Y_pred_binary = (Y_pred > 0.5).astype(int)\n",
    "        \n",
    "        # 计算并存储指标\n",
    "        accuracy = accuracy_score(Y_true, Y_pred_binary)\n",
    "        f1 = f1_score(Y_true, Y_pred_binary)\n",
    "        sensitivity = recall_score(Y_true, Y_pred_binary)\n",
    "        precision = precision_score(Y_true, Y_pred_binary)\n",
    "        auc = roc_auc_score(Y_true, Y_pred)\n",
    "        \n",
    "        accuracies.append(accuracy)\n",
    "        f1_scores.append(f1)\n",
    "        sensitivities.append(sensitivity)\n",
    "        precisions.append(precision)\n",
    "        auc_scores.append(auc)\n",
    "        \n",
    "        # 记录ROC曲线\n",
    "        # ... 前面的代码保持不变 ...\n",
    "\n",
    "# 记录ROC曲线\n",
    "        if fold == 0:\n",
    "            fpr, tpr, _ = roc_curve(Y_true, Y_pred)\n",
    "            roc_curves.append((fpr, tpr))\n",
    "            \n",
    "            # 使用wandb记录ROC曲线数据\n",
    "            wandb.log({\n",
    "                f\"{model_name}_roc_data\": wandb.Table(\n",
    "                    data=[[f, t] for f, t in zip(fpr, tpr)],\n",
    "                    columns=[\"fpr\", \"tpr\"]\n",
    "                )\n",
    "            })\n",
    "            \n",
    "            # 绘制ROC曲线并保存为图像\n",
    "            plt.figure(figsize=(8, 6))\n",
    "            plt.plot(fpr, tpr, label=f'{model_name} ROC curve')\n",
    "            plt.plot([0, 1], [0, 1], linestyle='--', label='Random classifier')\n",
    "            plt.xlabel('False Positive Rate')\n",
    "            plt.ylabel('True Positive Rate')\n",
    "            plt.title(f'{model_name} ROC Curve (Fold 1)')\n",
    "            plt.legend()\n",
    "            \n",
    "            # 将图像记录到wandb\n",
    "            wandb.log({f\"{model_name}_roc_plot\": plt})\n",
    "            plt.show()\n",
    "\n",
    "# ... 后面的代码保持不变 ...\n",
    "        \n",
    "        # 输出并记录每个模型的平均指标\n",
    "        avg_metrics = {\n",
    "            \"accuracy\": np.mean(accuracies[-5:]),\n",
    "            \"f1\": np.mean(f1_scores[-5:]),\n",
    "            \"sensitivity\": np.mean(sensitivities[-5:]),\n",
    "            \"precision\": np.mean(precisions[-5:]),\n",
    "            \"auc\": np.mean(auc_scores[-5:])\n",
    "        }\n",
    "        \n",
    "        print(f\"\\n{model_name} 模型性能:\")\n",
    "        for metric_name, value in avg_metrics.items():\n",
    "            print(f\"Average {metric_name}: {value:.4f}\")\n",
    "            wandb.log({f\"{model_name}/final_{metric_name}\": value})\n",
    "\n",
    "# 完成实验后关闭wandb\n",
    "wandb.finish()"
   ]
  },
  {
   "cell_type": "markdown",
   "metadata": {},
   "source": [
    "#### 测试集预测"
   ]
  },
  {
   "cell_type": "code",
   "execution_count": 90,
   "metadata": {},
   "outputs": [
    {
     "data": {
      "text/html": [
       "<div>\n",
       "<style scoped>\n",
       "    .dataframe tbody tr th:only-of-type {\n",
       "        vertical-align: middle;\n",
       "    }\n",
       "\n",
       "    .dataframe tbody tr th {\n",
       "        vertical-align: top;\n",
       "    }\n",
       "\n",
       "    .dataframe thead th {\n",
       "        text-align: right;\n",
       "    }\n",
       "</style>\n",
       "<table border=\"1\" class=\"dataframe\">\n",
       "  <thead>\n",
       "    <tr style=\"text-align: right;\">\n",
       "      <th></th>\n",
       "      <th>时间X1</th>\n",
       "      <th>缺陷累计产生数量X2</th>\n",
       "      <th>特征X3</th>\n",
       "      <th>特征X4</th>\n",
       "      <th>特征X5</th>\n",
       "      <th>特征X6</th>\n",
       "      <th>特征X7</th>\n",
       "      <th>特征X8</th>\n",
       "      <th>特征X9</th>\n",
       "      <th>缺陷检测质量风险 Y</th>\n",
       "      <th>shift_id</th>\n",
       "    </tr>\n",
       "  </thead>\n",
       "  <tbody>\n",
       "    <tr>\n",
       "      <th>0</th>\n",
       "      <td>2563857970</td>\n",
       "      <td>0</td>\n",
       "      <td>0</td>\n",
       "      <td>0</td>\n",
       "      <td>0</td>\n",
       "      <td>0</td>\n",
       "      <td>0</td>\n",
       "      <td>0</td>\n",
       "      <td>0</td>\n",
       "      <td>待检测</td>\n",
       "      <td>1</td>\n",
       "    </tr>\n",
       "    <tr>\n",
       "      <th>1</th>\n",
       "      <td>2563858000</td>\n",
       "      <td>0</td>\n",
       "      <td>0</td>\n",
       "      <td>0</td>\n",
       "      <td>0</td>\n",
       "      <td>0</td>\n",
       "      <td>0</td>\n",
       "      <td>0</td>\n",
       "      <td>0</td>\n",
       "      <td>NaN</td>\n",
       "      <td>1</td>\n",
       "    </tr>\n",
       "    <tr>\n",
       "      <th>2</th>\n",
       "      <td>2563858030</td>\n",
       "      <td>0</td>\n",
       "      <td>0</td>\n",
       "      <td>32</td>\n",
       "      <td>0</td>\n",
       "      <td>0</td>\n",
       "      <td>0</td>\n",
       "      <td>0</td>\n",
       "      <td>2</td>\n",
       "      <td>NaN</td>\n",
       "      <td>1</td>\n",
       "    </tr>\n",
       "  </tbody>\n",
       "</table>\n",
       "</div>"
      ],
      "text/plain": [
       "         时间X1  缺陷累计产生数量X2  特征X3  特征X4  特征X5  特征X6  特征X7  特征X8  特征X9  \\\n",
       "0  2563857970           0     0     0     0     0     0     0     0   \n",
       "1  2563858000           0     0     0     0     0     0     0     0   \n",
       "2  2563858030           0     0    32     0     0     0     0     2   \n",
       "\n",
       "  缺陷检测质量风险 Y  shift_id  \n",
       "0        待检测         1  \n",
       "1        NaN         1  \n",
       "2        NaN         1  "
      ]
     },
     "execution_count": 90,
     "metadata": {},
     "output_type": "execute_result"
    }
   ],
   "source": [
    "#将训练好的模型用于测试集预测，并将结果保存在“测试集”表中的“缺陷检测质量风险 Y”列中。\n",
    "df_test = pd.read_excel(r\"C:\\Users\\27968\\Desktop\\学习\\计算机\\机器学习与数据挖掘\\2024期末大作业\\2024期末大作业\\缺陷检测.xlsx\",sheet_name='测试集')\n",
    "df_test['时间X1'] = pd.to_datetime(df_test['时间X1']).astype(np.int64) // 10**9  # 转换为Unix时间戳\n",
    "df_test['shift_id'] = generate_shift_ids(df_test['缺陷检测质量风险 Y'])\n",
    "X_test = df_test.drop(columns=['缺陷检测质量风险 Y','shift_id']).values \n",
    "scaler = StandardScaler()\n",
    "X_test = scaler.fit_transform(X_test)\n",
    "X_test_tensor = torch.FloatTensor(X_test)\n",
    "df_test.head(3)"
   ]
  },
  {
   "cell_type": "code",
   "execution_count": 91,
   "metadata": {},
   "outputs": [
    {
     "name": "stdout",
     "output_type": "stream",
     "text": [
      "测试集预测结果示例：\n",
      "  预测_DNN 预测_RNN 预测_LSTM\n",
      "0  有质量隐患  无质量隐患   无质量隐患\n",
      "1  有质量隐患  无质量隐患   无质量隐患\n",
      "2  有质量隐患  无质量隐患   无质量隐患\n",
      "3  有质量隐患  无质量隐患   无质量隐患\n",
      "4  有质量隐患  无质量隐患   无质量隐患\n"
     ]
    }
   ],
   "source": [
    "# 创建测试集的DataLoader\n",
    "test_dataset = TensorDataset(X_test_tensor)\n",
    "test_loader = DataLoader(test_dataset, batch_size=batch_size)\n",
    "\n",
    "# 存储预测结果\n",
    "predictions = {}\n",
    "\n",
    "# 对每个模型进行预测\n",
    "for model_name in ['DNN', 'RNN', 'LSTM']:\n",
    "    # 加载之前训练好的模型\n",
    "    if model_name == 'DNN':\n",
    "        model = DNN(X_test.shape[1]).to(device)\n",
    "    elif model_name == 'RNN':\n",
    "        model = RNN(1).to(device)\n",
    "    else:  # LSTM\n",
    "        model = LSTM(1).to(device)\n",
    "    \n",
    "    # 这里应该加载之前训练好的模型权重\n",
    "    # model.load_state_dict(torch.load(f'{model_name}_weights.pth'))\n",
    "    \n",
    "    # 进行预测\n",
    "    model.eval()\n",
    "    with torch.no_grad():\n",
    "        predictions_list = []\n",
    "        for batch in test_loader:\n",
    "            X = batch[0].to(device)\n",
    "            outputs = model(X)\n",
    "            predictions_list.append(outputs.cpu().numpy())\n",
    "        Y_pred = np.concatenate(predictions_list)\n",
    "        Y_pred_binary = (Y_pred > 0.5).astype(int)\n",
    "    \n",
    "    # 将预测结果映射回原始标签\n",
    "    Y_pred_labels = np.where(Y_pred_binary == 1, '有质量隐患', '无质量隐患')\n",
    "    predictions[model_name] = Y_pred_labels\n",
    "\n",
    "# 将预测结果添加到测试集DataFrame中\n",
    "for model_name, preds in predictions.items():\n",
    "    df_test[f'预测_{model_name}'] = preds\n",
    "\n",
    "# 显示结果\n",
    "print(\"测试集预测结果示例：\")\n",
    "print(df_test[[f'预测_{model_name}' for model_name in ['DNN', 'RNN', 'LSTM']]].head())"
   ]
  },
  {
   "cell_type": "markdown",
   "metadata": {},
   "source": [
    "#### 输出结果"
   ]
  },
  {
   "cell_type": "code",
   "execution_count": 92,
   "metadata": {},
   "outputs": [],
   "source": [
    "# 对每个模型的预测结果分别取众数\n",
    "df_test['最终预测_DNN'] = df_test.groupby('shift_id')['预测_DNN'].transform(lambda x: x.mode().iloc[0])\n",
    "df_test['最终预测_RNN'] = df_test.groupby('shift_id')['预测_RNN'].transform(lambda x: x.mode().iloc[0])\n",
    "df_test['最终预测_LSTM'] = df_test.groupby('shift_id')['预测_LSTM'].transform(lambda x: x.mode().iloc[0])"
   ]
  },
  {
   "cell_type": "code",
   "execution_count": 93,
   "metadata": {},
   "outputs": [],
   "source": [
    "# 使用 ExcelWriter 来写入新的 sheet\n",
    "with pd.ExcelWriter(r\"C:\\Users\\27968\\Desktop\\学习\\计算机\\机器学习与数据挖掘\\2024期末大作业\\2024期末大作业\\缺陷检测.xlsx\", mode='a', if_sheet_exists='replace') as writer:\n",
    "    df_test.to_excel(writer, sheet_name='测试集_朴素预测', index=False)"
   ]
  },
  {
   "cell_type": "markdown",
   "metadata": {},
   "source": [
    "#### 可视化结果"
   ]
  },
  {
   "cell_type": "code",
   "execution_count": 94,
   "metadata": {},
   "outputs": [
    {
     "name": "stdout",
     "output_type": "stream",
     "text": [
      "\n",
      "DNN模型分类效果分析:\n",
      "班次总数: 141\n",
      "有质量隐患的班次数: 44 (31.21%)\n",
      "无质量隐患的班次数: 97 (68.79%)\n"
     ]
    },
    {
     "data": {
      "image/png": "[encoded data removed]",
      "text/plain": [
       "<Figure size 1200x800 with 1 Axes>"
      ]
     },
     "metadata": {},
     "output_type": "display_data"
    }
   ],
   "source": [
    "import torch\n",
    "import numpy as np\n",
    "from sklearn.manifold import TSNE\n",
    "import matplotlib.pyplot as plt\n",
    "#支持中文\n",
    "plt.rcParams['font.sans-serif'] = ['SimHei']\n",
    "plt.rcParams['axes.unicode_minus'] = False  \n",
    "\n",
    "# 1. 修改DNN模型以获取中间层输出\n",
    "class DNN(nn.Module):\n",
    "    def __init__(self, input_dim):\n",
    "        super(DNN, self).__init__()\n",
    "        self.layers = nn.Sequential(\n",
    "            nn.Linear(input_dim, 256),\n",
    "            nn.ReLU(),\n",
    "            nn.BatchNorm1d(256),\n",
    "            nn.Dropout(0.3),\n",
    "            \n",
    "            nn.Linear(256, 128),\n",
    "            nn.ReLU(),\n",
    "            nn.BatchNorm1d(128),\n",
    "            nn.Dropout(0.3),\n",
    "            \n",
    "            nn.Linear(128, 64),\n",
    "            nn.ReLU(),\n",
    "            nn.BatchNorm1d(64),\n",
    "            nn.Dropout(0.3),\n",
    "        )\n",
    "        self.output = nn.Sequential(\n",
    "            nn.Linear(64, 1),\n",
    "            nn.Sigmoid()\n",
    "        )\n",
    "        \n",
    "    def forward(self, x, return_features=False):\n",
    "        features = self.layers(x)\n",
    "        output = self.output(features)\n",
    "        if return_features:\n",
    "            return output, features\n",
    "        return output\n",
    "\n",
    "# 2. 获取每个班次的特征表示\n",
    "device = torch.device('cuda' if torch.cuda.is_available() else 'cpu')\n",
    "model = DNN(X_tensor.shape[1]).to(device)\n",
    "\n",
    "# 设置模型为评估模式\n",
    "model.eval()\n",
    "features_list = []\n",
    "labels_list = []\n",
    "\n",
    "with torch.no_grad():\n",
    "    # 按班次进行聚合\n",
    "    for shift_id in df_new['shift_id'].unique():\n",
    "        # 获取当前班次的数据\n",
    "        shift_data = df_new[df_new['shift_id'] == shift_id]\n",
    "        # 提取特征（除去时间、标签和shift_id）\n",
    "        shift_X = shift_data.drop(columns=['缺陷检测质量风险 Y', 'shift_id']).values\n",
    "        \n",
    "        # 标准化特征\n",
    "        shift_X_normalized = scaler.transform(shift_X)\n",
    "        \n",
    "        # 转换为tensor并获取特征\n",
    "        X_tensor = torch.FloatTensor(shift_X_normalized).to(device)\n",
    "        _, features = model(X_tensor, return_features=True)\n",
    "        \n",
    "        # 计算该班次的平均特征\n",
    "        shift_features = features.mean(dim=0).cpu().numpy()\n",
    "        features_list.append(shift_features)\n",
    "        \n",
    "        # 获取该班次的标签（取第一个值即可，因为同一班次标签相同）\n",
    "        labels_list.append(shift_data['缺陷检测质量风险 Y'].iloc[0])\n",
    "\n",
    "# 转换为numpy数组\n",
    "features_array = np.array(features_list)\n",
    "labels_array = np.array(labels_list)\n",
    "\n",
    "# 3. 使用t-SNE进行降维\n",
    "tsne = TSNE(n_components=2, random_state=42, perplexity=30)\n",
    "X_tsne = tsne.fit_transform(features_array)\n",
    "\n",
    "# 4. 创建可视化\n",
    "plt.figure(figsize=(12, 8))\n",
    "\n",
    "# 绘制散点图\n",
    "scatter = plt.scatter(X_tsne[:, 0], X_tsne[:, 1], \n",
    "                     c=labels_array,\n",
    "                     cmap='coolwarm',\n",
    "                     alpha=0.6,\n",
    "                     s=100)  # 增大点的大小\n",
    "\n",
    "# 添加图例\n",
    "legend_elements = scatter.legend_elements()\n",
    "plt.legend(legend_elements[0], ['无质量隐患', '有质量隐患'],\n",
    "          title='质量风险类别',\n",
    "          loc='upper right')\n",
    "\n",
    "# 添加标题和标签\n",
    "plt.title('DNN模型特征空间的t-SNE可视化', fontsize=14)\n",
    "plt.xlabel('t-SNE维度1', fontsize=12)\n",
    "plt.ylabel('t-SNE维度2', fontsize=12)\n",
    "\n",
    "# 添加网格线\n",
    "plt.grid(True, linestyle='--', alpha=0.3)\n",
    "\n",
    "# 5. 输出分类统计信息\n",
    "total_shifts = len(labels_array)\n",
    "risk_shifts = np.sum(labels_array == 1)\n",
    "no_risk_shifts = np.sum(labels_array == 0)\n",
    "\n",
    "print(\"\\nDNN模型分类效果分析:\")\n",
    "print(f\"班次总数: {total_shifts}\")\n",
    "print(f\"有质量隐患的班次数: {risk_shifts} ({risk_shifts/total_shifts*100:.2f}%)\")\n",
    "print(f\"无质量隐患的班次数: {no_risk_shifts} ({no_risk_shifts/total_shifts*100:.2f}%)\")\n",
    "\n",
    "plt.show()"
   ]
  },
  {
   "cell_type": "markdown",
   "metadata": {},
   "source": [
    "可以看到，用最朴素的想法得到的分类效果不说是相当差，至少也是很一般的。在各种指标上只能过看看过关。这就迫使我们寻找更有的思路和方法"
   ]
  },
  {
   "cell_type": "markdown",
   "metadata": {},
   "source": [
    "## 进阶想法"
   ]
  },
  {
   "cell_type": "markdown",
   "metadata": {},
   "source": [
    "### 数据重塑"
   ]
  },
  {
   "cell_type": "code",
   "execution_count": 95,
   "metadata": {},
   "outputs": [
    {
     "name": "stdout",
     "output_type": "stream",
     "text": [
      "With padding: torch.Size([3243, 9]) torch.Size([3243])\n"
     ]
    }
   ],
   "source": [
    "max_len = df_new.groupby('shift_id').size().max()\n",
    "X_grouped = []\n",
    "Y_grouped = []\n",
    "\n",
    "for _, group in df_new.groupby('shift_id'):\n",
    "    # 处理X\n",
    "    group_X = scaler.transform(group.drop(columns=['shift_id', '缺陷检测质量风险 Y']).values)\n",
    "    group_Y = group['缺陷检测质量风险 Y'].values\n",
    "    \n",
    "    # 如果需要padding\n",
    "    if len(group_X) < max_len:\n",
    "        padding_rows = max_len - len(group_X)\n",
    "        # X补0\n",
    "        X_pad = np.pad(group_X, ((0, padding_rows), (0, 0)), mode='constant')\n",
    "        # Y重复最后一个值\n",
    "        Y_pad = np.pad(group_Y, (0, padding_rows), mode='edge')\n",
    "    else:\n",
    "        X_pad = group_X[:max_len]\n",
    "        Y_pad = group_Y[:max_len]\n",
    "    \n",
    "    X_grouped.append(X_pad)\n",
    "    Y_grouped.append(Y_pad)\n",
    "\n",
    "# 合并\n",
    "X_padded = np.vstack(X_grouped)\n",
    "Y_padded = np.hstack(Y_grouped)\n",
    "X_padded_tensor = torch.FloatTensor(X_padded)\n",
    "Y_padded_tensor = torch.FloatTensor(Y_padded)\n",
    "print(\"With padding:\", X_padded_tensor.shape, Y_padded_tensor.shape)"
   ]
  },
  {
   "cell_type": "markdown",
   "metadata": {},
   "source": [
    "### 转化二维数据"
   ]
  },
  {
   "cell_type": "code",
   "execution_count": 96,
   "metadata": {},
   "outputs": [
    {
     "name": "stdout",
     "output_type": "stream",
     "text": [
      "重塑后的X形状: torch.Size([141, 23, 9])\n",
      "重塑后的Y形状: torch.Size([141])\n"
     ]
    }
   ],
   "source": [
    "# 重塑数据为141个样本，每个样本23行\n",
    "n_samples = 141  # 总班次数\n",
    "n_timesteps = 23  # 每个班次的时间步数\n",
    "n_features = X_padded_tensor.shape[-1]  # 特征数量\n",
    "\n",
    "# 重塑X\n",
    "X_reshaped = X_padded_tensor.view(n_samples, n_timesteps, n_features)\n",
    "print(\"重塑后的X形状:\", X_reshaped.shape)\n",
    "\n",
    "# 重塑Y \n",
    "Y_reshaped = Y_padded_tensor.view(n_samples, n_timesteps)\n",
    "# 取每个班次的最后一个标签作为该班次的标签\n",
    "Y_final = Y_reshaped[:,-1]\n",
    "print(\"重塑后的Y形状:\", Y_final.shape)\n"
   ]
  },
  {
   "cell_type": "markdown",
   "metadata": {},
   "source": [
    "### 构建一维卷积CNN模型"
   ]
  },
  {
   "cell_type": "code",
   "execution_count": 97,
   "metadata": {},
   "outputs": [
    {
     "name": "stdout",
     "output_type": "stream",
     "text": [
      "\n",
      "运行 CNN模型...\n",
      "Early stopping at epoch 20\n",
      "Early stopping at epoch 13\n",
      "Early stopping at epoch 11\n",
      "Early stopping at epoch 10\n",
      "Early stopping at epoch 15\n",
      "\n",
      "=== 5折交叉验证平均结果 ===\n",
      "accuracy: 0.9360 (±0.0270)\n",
      "f1: 0.8977 (±0.0386)\n",
      "sensitivity: 0.8889 (±0.0703)\n",
      "precision: 0.9156 (±0.0762)\n",
      "auc: 0.9857 (±0.0132)\n"
     ]
    },
    {
     "data": {
      "image/png": "[encoded data removed]",
      "text/plain": [
       "<Figure size 1000x800 with 1 Axes>"
      ]
     },
     "metadata": {},
     "output_type": "display_data"
    }
   ],
   "source": [
    "class CNN(nn.Module):\n",
    "    def __init__(self, input_channels=9):\n",
    "        super(CNN, self).__init__()\n",
    "        \n",
    "        # 第一个卷积块\n",
    "        self.conv1 = nn.Sequential(\n",
    "            nn.Conv1d(input_channels, 32, kernel_size=3, padding=1),\n",
    "            nn.ReLU(),\n",
    "            nn.BatchNorm1d(32),\n",
    "            nn.MaxPool1d(kernel_size=2),\n",
    "            nn.Dropout(0.2)\n",
    "        )\n",
    "        \n",
    "        # 第二个卷积块\n",
    "        self.conv2 = nn.Sequential(\n",
    "            nn.Conv1d(32, 64, kernel_size=3, padding=1),\n",
    "            nn.ReLU(),\n",
    "            nn.BatchNorm1d(64),\n",
    "            nn.MaxPool1d(kernel_size=2),\n",
    "            nn.Dropout(0.2)\n",
    "        )\n",
    "        \n",
    "        # 第三个卷积块\n",
    "        self.conv3 = nn.Sequential(\n",
    "            nn.Conv1d(64, 128, kernel_size=3, padding=1),\n",
    "            nn.ReLU(),\n",
    "            nn.BatchNorm1d(128),\n",
    "            nn.MaxPool1d(kernel_size=2),\n",
    "            nn.Dropout(0.2)\n",
    "        )\n",
    "        \n",
    "        # 计算展平后的特征维度\n",
    "        # 原始长度23，经过3次MaxPool后变为23/8≈2\n",
    "        self.flatten_size = 128 * 2\n",
    "        \n",
    "        # 全连接层\n",
    "        self.fc = nn.Sequential(\n",
    "            nn.Linear(self.flatten_size, 64),\n",
    "            nn.ReLU(),\n",
    "            nn.Dropout(0.3),\n",
    "            nn.Linear(64, 1),\n",
    "            nn.Sigmoid()\n",
    "        )\n",
    "        \n",
    "    def forward(self, x):\n",
    "        # 输入x的形状: [batch_size, time_steps, features]\n",
    "        # 需要转换为: [batch_size, features, time_steps]\n",
    "        x = x.permute(0, 2, 1)\n",
    "        \n",
    "        x = self.conv1(x)\n",
    "        x = self.conv2(x)\n",
    "        x = self.conv3(x)\n",
    "        \n",
    "        # 展平\n",
    "        x = x.view(x.size(0), -1)\n",
    "        x = self.fc(x)\n",
    "        \n",
    "        return x\n",
    "\n",
    "def train_evaluate_model(model, train_loader, val_loader, device, epochs=30):\n",
    "    criterion = nn.BCELoss()\n",
    "    optimizer = optim.Adam(model.parameters(), lr=0.001, weight_decay=0.01)\n",
    "    \n",
    "    best_val_loss = float('inf')\n",
    "    patience = 5\n",
    "    counter = 0\n",
    "    \n",
    "    for epoch in range(epochs):\n",
    "        model.train()\n",
    "        train_loss = 0\n",
    "        for batch_x, batch_y in train_loader:\n",
    "            batch_x, batch_y = batch_x.to(device), batch_y.to(device)\n",
    "            optimizer.zero_grad()\n",
    "            outputs = model(batch_x)\n",
    "            outputs = outputs.view(-1)\n",
    "            loss = criterion(outputs, batch_y)\n",
    "            loss.backward()\n",
    "            optimizer.step()\n",
    "            train_loss += loss.item()\n",
    "            \n",
    "        model.eval()\n",
    "        val_loss = 0\n",
    "        with torch.no_grad():\n",
    "            for batch_x, batch_y in val_loader:\n",
    "                batch_x, batch_y = batch_x.to(device), batch_y.to(device)\n",
    "                outputs = model(batch_x)\n",
    "                outputs = outputs.view(-1)\n",
    "                val_loss += criterion(outputs, batch_y).item()\n",
    "        \n",
    "        if val_loss < best_val_loss:\n",
    "            best_val_loss = val_loss\n",
    "            counter = 0\n",
    "        else:\n",
    "            counter += 1\n",
    "            if counter >= patience:\n",
    "                print(f\"Early stopping at epoch {epoch}\")\n",
    "                break\n",
    "    \n",
    "    model.eval()\n",
    "    val_preds = []\n",
    "    val_probs = []\n",
    "    val_true = []\n",
    "    \n",
    "    with torch.no_grad():\n",
    "        for batch_x, batch_y in val_loader:\n",
    "            batch_x = batch_x.to(device)\n",
    "            outputs = model(batch_x)\n",
    "            probs = outputs.view(-1).cpu().numpy()\n",
    "            preds = (probs > 0.5).astype(int)\n",
    "            val_preds.extend(preds)\n",
    "            val_probs.extend(probs)\n",
    "            val_true.extend(batch_y.numpy())\n",
    "    \n",
    "    return np.array(val_true), np.array(val_preds), np.array(val_probs)\n",
    "\n",
    "def evaluate_metrics(y_true, y_pred, y_prob):\n",
    "    return {\n",
    "        'accuracy': accuracy_score(y_true, y_pred),\n",
    "        'f1': f1_score(y_true, y_pred),\n",
    "        'sensitivity': recall_score(y_true, y_pred),\n",
    "        'precision': precision_score(y_true, y_pred),\n",
    "        'auc': roc_auc_score(y_true, y_prob)\n",
    "    }\n",
    "\n",
    "def run_experiment(X, y, model_class, device, n_splits=5):\n",
    "    skf = StratifiedKFold(n_splits=n_splits, shuffle=True, random_state=42)\n",
    "    metrics_history = defaultdict(list)\n",
    "    first_fold_data = None\n",
    "    \n",
    "    for fold, (train_idx, val_idx) in enumerate(skf.split(X, y)):\n",
    "        X_train, X_val = X[train_idx], X[val_idx]\n",
    "        y_train, y_val = y[train_idx], y[val_idx]\n",
    "        \n",
    "        train_dataset = TensorDataset(\n",
    "            torch.FloatTensor(X_train), \n",
    "            torch.FloatTensor(y_train)\n",
    "        )\n",
    "        val_dataset = TensorDataset(\n",
    "            torch.FloatTensor(X_val), \n",
    "            torch.FloatTensor(y_val)\n",
    "        )\n",
    "        \n",
    "        train_loader = DataLoader(train_dataset, batch_size=16, shuffle=True)\n",
    "        val_loader = DataLoader(val_dataset, batch_size=16)\n",
    "        \n",
    "        model = model_class().to(device)\n",
    "        y_true, y_pred, y_prob = train_evaluate_model(model, train_loader, val_loader, device)\n",
    "        \n",
    "        if fold == 0:\n",
    "            first_fold_data = (y_true, y_prob)\n",
    "        \n",
    "        metrics = evaluate_metrics(y_true, y_pred, y_prob)\n",
    "        for metric_name, value in metrics.items():\n",
    "            metrics_history[metric_name].append(value)\n",
    "    \n",
    "    return metrics_history, first_fold_data\n",
    "\n",
    "# 运行实验\n",
    "device = torch.device('cuda' if torch.cuda.is_available() else 'cpu')\n",
    "\n",
    "# 准备数据\n",
    "X = X_reshaped.numpy()\n",
    "y = Y_final.numpy()\n",
    "\n",
    "print(\"\\n运行 CNN模型...\")\n",
    "metrics_history, first_fold_data = run_experiment(X, y, CNN, device)\n",
    "\n",
    "# 输出结果\n",
    "print(\"\\n=== 5折交叉验证平均结果 ===\")\n",
    "metrics = ['accuracy', 'f1', 'sensitivity', 'precision', 'auc']\n",
    "for metric in metrics:\n",
    "    mean_value = np.mean(metrics_history[metric])\n",
    "    std_value = np.std(metrics_history[metric])\n",
    "    print(f\"{metric}: {mean_value:.4f} (±{std_value:.4f})\")\n",
    "\n",
    "# 绘制ROC曲线\n",
    "plt.figure(figsize=(10, 8))\n",
    "y_true, y_prob = first_fold_data\n",
    "fpr, tpr, _ = roc_curve(y_true, y_prob)\n",
    "auc = roc_auc_score(y_true, y_prob)\n",
    "plt.plot(fpr, tpr, label=f'CNN (AUC = {auc:.4f})')\n",
    "\n",
    "plt.plot([0, 1], [0, 1], 'k--')\n",
    "plt.xlim([0.0, 1.0])\n",
    "plt.ylim([0.0, 1.05])\n",
    "plt.xlabel('假阳性率 (False Positive Rate)')\n",
    "plt.ylabel('真阳性率 (True Positive Rate)')\n",
    "plt.title('CNN模型的ROC曲线 (第1折)')\n",
    "plt.legend(loc=\"lower right\")\n",
    "plt.grid(True)\n",
    "plt.show()"
   ]
  },
  {
   "cell_type": "markdown",
   "metadata": {},
   "source": [
    "### 构建二维卷积CNN模型"
   ]
  },
  {
   "cell_type": "code",
   "execution_count": 98,
   "metadata": {},
   "outputs": [
    {
     "name": "stdout",
     "output_type": "stream",
     "text": [
      "\n",
      "=== 5折交叉验证平均结果 ===\n",
      "accuracy: 0.9360 (±0.0148)\n",
      "f1: 0.8966 (±0.0229)\n",
      "sensitivity: 0.8889 (±0.0703)\n",
      "precision: 0.9156 (±0.0762)\n",
      "auc: 0.9704 (±0.0226)\n"
     ]
    },
    {
     "data": {
      "image/png": "[encoded data removed]",
      "text/plain": [
       "<Figure size 800x600 with 1 Axes>"
      ]
     },
     "metadata": {},
     "output_type": "display_data"
    }
   ],
   "source": [
    "class Simple2DCNN(nn.Module):\n",
    "    def __init__(self, input_channels=1):  # 默认输入通道为1\n",
    "        super(Simple2DCNN, self).__init__()\n",
    "        # 使用一个简单的2D卷积层\n",
    "        self.conv = nn.Sequential(\n",
    "            nn.Conv2d(input_channels, 8, kernel_size=(3, 3), padding=1),\n",
    "            nn.ReLU()\n",
    "        )\n",
    "        \n",
    "        # 计算展平后的特征维度：保持原始维度23x9\n",
    "        self.flatten_size = 8 * 23 * 9\n",
    "        \n",
    "        # 一个简单的全连接层\n",
    "        self.fc = nn.Linear(self.flatten_size, 1)\n",
    "        \n",
    "    def forward(self, x):\n",
    "        # 输入x形状: [batch, time_steps, features]\n",
    "        # 需要重塑为: [batch, channels, height, width]\n",
    "        x = x.unsqueeze(1)  # 添加通道维度\n",
    "        x = self.conv(x)\n",
    "        x = x.view(x.size(0), -1)\n",
    "        x = self.fc(x)\n",
    "        return torch.sigmoid(x).view(-1)\n",
    "\n",
    "def train_evaluate_model(model, train_loader, val_loader, device, epochs=20):\n",
    "    criterion = nn.BCELoss()\n",
    "    optimizer = optim.Adam(model.parameters(), lr=0.001)\n",
    "    \n",
    "    for epoch in range(epochs):\n",
    "        # 训练\n",
    "        model.train()\n",
    "        for batch_x, batch_y in train_loader:\n",
    "            batch_x, batch_y = batch_x.to(device), batch_y.to(device)\n",
    "            optimizer.zero_grad()\n",
    "            outputs = model(batch_x)\n",
    "            loss = criterion(outputs, batch_y)\n",
    "            loss.backward()\n",
    "            optimizer.step()\n",
    "    \n",
    "    # 评估\n",
    "    model.eval()\n",
    "    val_preds = []\n",
    "    val_probs = []\n",
    "    val_true = []\n",
    "    \n",
    "    with torch.no_grad():\n",
    "        for batch_x, batch_y in val_loader:\n",
    "            batch_x = batch_x.to(device)\n",
    "            outputs = model(batch_x)\n",
    "            probs = outputs.cpu().numpy()\n",
    "            preds = (probs > 0.5).astype(int)\n",
    "            val_preds.extend(preds)\n",
    "            val_probs.extend(probs)\n",
    "            val_true.extend(batch_y.numpy())\n",
    "    \n",
    "    return np.array(val_true), np.array(val_preds), np.array(val_probs)\n",
    "\n",
    "def run_experiment(X, y, device, n_splits=5):\n",
    "    skf = StratifiedKFold(n_splits=n_splits, shuffle=True, random_state=42)\n",
    "    metrics_history = defaultdict(list)\n",
    "    first_fold_data = None\n",
    "    \n",
    "    for fold, (train_idx, val_idx) in enumerate(skf.split(X, y)):\n",
    "        X_train, X_val = X[train_idx], X[val_idx]\n",
    "        y_train, y_val = y[train_idx], y[val_idx]\n",
    "        \n",
    "        train_dataset = TensorDataset(\n",
    "            torch.FloatTensor(X_train), \n",
    "            torch.FloatTensor(y_train)\n",
    "        )\n",
    "        val_dataset = TensorDataset(\n",
    "            torch.FloatTensor(X_val), \n",
    "            torch.FloatTensor(y_val)\n",
    "        )\n",
    "        \n",
    "        train_loader = DataLoader(train_dataset, batch_size=16, shuffle=True)\n",
    "        val_loader = DataLoader(val_dataset, batch_size=16)\n",
    "        \n",
    "        model = Simple2DCNN().to(device)\n",
    "        y_true, y_pred, y_prob = train_evaluate_model(model, train_loader, val_loader, device)\n",
    "        \n",
    "        if fold == 0:\n",
    "            first_fold_data = (y_true, y_prob)\n",
    "        \n",
    "        metrics = evaluate_metrics(y_true, y_pred, y_prob)\n",
    "        for metric_name, value in metrics.items():\n",
    "            metrics_history[metric_name].append(value)\n",
    "    \n",
    "    return metrics_history, first_fold_data\n",
    "\n",
    "# 运行实验\n",
    "device = torch.device('cuda' if torch.cuda.is_available() else 'cpu')\n",
    "metrics_history, first_fold_data = run_experiment(X, y, device)\n",
    "\n",
    "# 输出结果\n",
    "print(\"\\n=== 5折交叉验证平均结果 ===\")\n",
    "metrics = ['accuracy', 'f1', 'sensitivity', 'precision', 'auc']\n",
    "for metric in metrics:\n",
    "    mean_value = np.mean(metrics_history[metric])\n",
    "    std_value = np.std(metrics_history[metric])\n",
    "    print(f\"{metric}: {mean_value:.4f} (±{std_value:.4f})\")\n",
    "\n",
    "# 绘制ROC曲线\n",
    "plt.figure(figsize=(8, 6))\n",
    "y_true, y_prob = first_fold_data\n",
    "fpr, tpr, _ = roc_curve(y_true, y_prob)\n",
    "auc = roc_auc_score(y_true, y_prob)\n",
    "plt.plot(fpr, tpr, label=f'ROC曲线 (AUC = {auc:.4f})')\n",
    "plt.plot([0, 1], [0, 1], 'k--')\n",
    "plt.xlabel('假阳性率')\n",
    "plt.ylabel('真阳性率')\n",
    "plt.title('ROC曲线 (第1折)')\n",
    "plt.legend()\n",
    "plt.grid(True)\n",
    "plt.show()"
   ]
  },
  {
   "cell_type": "code",
   "execution_count": 99,
   "metadata": {},
   "outputs": [
    {
     "data": {
      "application/vnd.jupyter.widget-view+json": {
       "model_id": "2f286ec6a29e4a39822482c0b3d3b783",
       "version_major": 2,
       "version_minor": 0
      },
      "text/plain": [
       "VBox(children=(Label(value='0.011 MB of 0.011 MB uploaded\\r'), FloatProgress(value=1.0, max=1.0)))"
      ]
     },
     "metadata": {},
     "output_type": "display_data"
    },
    {
     "data": {
      "text/html": [
       " View run <strong style=\"color:#cdcd00\">skilled-pond-1</strong> at: <a href='https://wandb.ai/2796868789-/my-awesome-project/runs/0ei7j8hq' target=\"_blank\">https://wandb.ai/2796868789-/my-awesome-project/runs/0ei7j8hq</a><br/> View project at: <a href='https://wandb.ai/2796868789-/my-awesome-project' target=\"_blank\">https://wandb.ai/2796868789-/my-awesome-project</a><br/>Synced 5 W&B file(s), 0 media file(s), 0 artifact file(s) and 0 other file(s)"
      ],
      "text/plain": [
       "<IPython.core.display.HTML object>"
      ]
     },
     "metadata": {},
     "output_type": "display_data"
    },
    {
     "data": {
      "text/html": [
       "Find logs at: <code>.\\wandb\\run-20241208_204503-0ei7j8hq\\logs</code>"
      ],
      "text/plain": [
       "<IPython.core.display.HTML object>"
      ]
     },
     "metadata": {},
     "output_type": "display_data"
    }
   ],
   "source": [
    "wandb.finish()"
   ]
  },
  {
   "cell_type": "code",
   "execution_count": 100,
   "metadata": {},
   "outputs": [
    {
     "ename": "RuntimeError",
     "evalue": "permute(sparse_coo): number of dimensions in the tensor input does not match the length of the desired ordering of dimensions i.e. input.dim() = 2 is not equal to len(dims) = 3",
     "output_type": "error",
     "traceback": [
      "\u001b[1;31m---------------------------------------------------------------------------\u001b[0m",
      "\u001b[1;31mRuntimeError\u001b[0m                              Traceback (most recent call last)",
      "Cell \u001b[1;32mIn[100], line 98\u001b[0m\n\u001b[0;32m     95\u001b[0m cnn_2d \u001b[38;5;241m=\u001b[39m Simple2DCNN()\u001b[38;5;241m.\u001b[39mto(device)\n\u001b[0;32m     97\u001b[0m \u001b[38;5;66;03m# 获取预测结果和特征\u001b[39;00m\n\u001b[1;32m---> 98\u001b[0m cnn_1d_preds, cnn_1d_features \u001b[38;5;241m=\u001b[39m \u001b[43mpredict_and_get_features\u001b[49m\u001b[43m(\u001b[49m\u001b[43mcnn_1d\u001b[49m\u001b[43m,\u001b[49m\u001b[43m \u001b[49m\u001b[43mtest_loader\u001b[49m\u001b[43m,\u001b[49m\u001b[43m \u001b[49m\u001b[43mdevice\u001b[49m\u001b[43m)\u001b[49m\n\u001b[0;32m     99\u001b[0m cnn_2d_preds, cnn_2d_features \u001b[38;5;241m=\u001b[39m predict_and_get_features(cnn_2d, test_loader, device)\n\u001b[0;32m    101\u001b[0m \u001b[38;5;66;03m# 5. 添加预测结果到df_test\u001b[39;00m\n",
      "Cell \u001b[1;32mIn[100], line 82\u001b[0m, in \u001b[0;36mpredict_and_get_features\u001b[1;34m(model, data_loader, device)\u001b[0m\n\u001b[0;32m     80\u001b[0m \u001b[38;5;28;01mfor\u001b[39;00m batch \u001b[38;5;129;01min\u001b[39;00m data_loader:\n\u001b[0;32m     81\u001b[0m     X \u001b[38;5;241m=\u001b[39m batch[\u001b[38;5;241m0\u001b[39m]\u001b[38;5;241m.\u001b[39mto(device)\n\u001b[1;32m---> 82\u001b[0m     outputs, features \u001b[38;5;241m=\u001b[39m \u001b[43mmodel\u001b[49m\u001b[43m(\u001b[49m\u001b[43mX\u001b[49m\u001b[43m,\u001b[49m\u001b[43m \u001b[49m\u001b[43mreturn_features\u001b[49m\u001b[38;5;241;43m=\u001b[39;49m\u001b[38;5;28;43;01mTrue\u001b[39;49;00m\u001b[43m)\u001b[49m\n\u001b[0;32m     83\u001b[0m     predictions\u001b[38;5;241m.\u001b[39mextend(outputs\u001b[38;5;241m.\u001b[39mcpu()\u001b[38;5;241m.\u001b[39mnumpy())\n\u001b[0;32m     84\u001b[0m     features_list\u001b[38;5;241m.\u001b[39mextend(features\u001b[38;5;241m.\u001b[39mcpu()\u001b[38;5;241m.\u001b[39mnumpy())\n",
      "File \u001b[1;32md:\\Python\\Lib\\site-packages\\torch\\nn\\modules\\module.py:1736\u001b[0m, in \u001b[0;36mModule._wrapped_call_impl\u001b[1;34m(self, *args, **kwargs)\u001b[0m\n\u001b[0;32m   1734\u001b[0m     \u001b[38;5;28;01mreturn\u001b[39;00m \u001b[38;5;28mself\u001b[39m\u001b[38;5;241m.\u001b[39m_compiled_call_impl(\u001b[38;5;241m*\u001b[39margs, \u001b[38;5;241m*\u001b[39m\u001b[38;5;241m*\u001b[39mkwargs)  \u001b[38;5;66;03m# type: ignore[misc]\u001b[39;00m\n\u001b[0;32m   1735\u001b[0m \u001b[38;5;28;01melse\u001b[39;00m:\n\u001b[1;32m-> 1736\u001b[0m     \u001b[38;5;28;01mreturn\u001b[39;00m \u001b[38;5;28;43mself\u001b[39;49m\u001b[38;5;241;43m.\u001b[39;49m\u001b[43m_call_impl\u001b[49m\u001b[43m(\u001b[49m\u001b[38;5;241;43m*\u001b[39;49m\u001b[43margs\u001b[49m\u001b[43m,\u001b[49m\u001b[43m \u001b[49m\u001b[38;5;241;43m*\u001b[39;49m\u001b[38;5;241;43m*\u001b[39;49m\u001b[43mkwargs\u001b[49m\u001b[43m)\u001b[49m\n",
      "File \u001b[1;32md:\\Python\\Lib\\site-packages\\torch\\nn\\modules\\module.py:1747\u001b[0m, in \u001b[0;36mModule._call_impl\u001b[1;34m(self, *args, **kwargs)\u001b[0m\n\u001b[0;32m   1742\u001b[0m \u001b[38;5;66;03m# If we don't have any hooks, we want to skip the rest of the logic in\u001b[39;00m\n\u001b[0;32m   1743\u001b[0m \u001b[38;5;66;03m# this function, and just call forward.\u001b[39;00m\n\u001b[0;32m   1744\u001b[0m \u001b[38;5;28;01mif\u001b[39;00m \u001b[38;5;129;01mnot\u001b[39;00m (\u001b[38;5;28mself\u001b[39m\u001b[38;5;241m.\u001b[39m_backward_hooks \u001b[38;5;129;01mor\u001b[39;00m \u001b[38;5;28mself\u001b[39m\u001b[38;5;241m.\u001b[39m_backward_pre_hooks \u001b[38;5;129;01mor\u001b[39;00m \u001b[38;5;28mself\u001b[39m\u001b[38;5;241m.\u001b[39m_forward_hooks \u001b[38;5;129;01mor\u001b[39;00m \u001b[38;5;28mself\u001b[39m\u001b[38;5;241m.\u001b[39m_forward_pre_hooks\n\u001b[0;32m   1745\u001b[0m         \u001b[38;5;129;01mor\u001b[39;00m _global_backward_pre_hooks \u001b[38;5;129;01mor\u001b[39;00m _global_backward_hooks\n\u001b[0;32m   1746\u001b[0m         \u001b[38;5;129;01mor\u001b[39;00m _global_forward_hooks \u001b[38;5;129;01mor\u001b[39;00m _global_forward_pre_hooks):\n\u001b[1;32m-> 1747\u001b[0m     \u001b[38;5;28;01mreturn\u001b[39;00m \u001b[43mforward_call\u001b[49m\u001b[43m(\u001b[49m\u001b[38;5;241;43m*\u001b[39;49m\u001b[43margs\u001b[49m\u001b[43m,\u001b[49m\u001b[43m \u001b[49m\u001b[38;5;241;43m*\u001b[39;49m\u001b[38;5;241;43m*\u001b[39;49m\u001b[43mkwargs\u001b[49m\u001b[43m)\u001b[49m\n\u001b[0;32m   1749\u001b[0m result \u001b[38;5;241m=\u001b[39m \u001b[38;5;28;01mNone\u001b[39;00m\n\u001b[0;32m   1750\u001b[0m called_always_called_hooks \u001b[38;5;241m=\u001b[39m \u001b[38;5;28mset\u001b[39m()\n",
      "Cell \u001b[1;32mIn[100], line 41\u001b[0m, in \u001b[0;36mCNN.forward\u001b[1;34m(self, x, return_features)\u001b[0m\n\u001b[0;32m     40\u001b[0m \u001b[38;5;28;01mdef\u001b[39;00m \u001b[38;5;21mforward\u001b[39m(\u001b[38;5;28mself\u001b[39m, x, return_features\u001b[38;5;241m=\u001b[39m\u001b[38;5;28;01mFalse\u001b[39;00m):\n\u001b[1;32m---> 41\u001b[0m     x \u001b[38;5;241m=\u001b[39m \u001b[43mx\u001b[49m\u001b[38;5;241;43m.\u001b[39;49m\u001b[43mpermute\u001b[49m\u001b[43m(\u001b[49m\u001b[38;5;241;43m0\u001b[39;49m\u001b[43m,\u001b[49m\u001b[43m \u001b[49m\u001b[38;5;241;43m2\u001b[39;49m\u001b[43m,\u001b[49m\u001b[43m \u001b[49m\u001b[38;5;241;43m1\u001b[39;49m\u001b[43m)\u001b[49m\n\u001b[0;32m     42\u001b[0m     x \u001b[38;5;241m=\u001b[39m \u001b[38;5;28mself\u001b[39m\u001b[38;5;241m.\u001b[39mconv1(x)\n\u001b[0;32m     43\u001b[0m     x \u001b[38;5;241m=\u001b[39m \u001b[38;5;28mself\u001b[39m\u001b[38;5;241m.\u001b[39mconv2(x)\n",
      "\u001b[1;31mRuntimeError\u001b[0m: permute(sparse_coo): number of dimensions in the tensor input does not match the length of the desired ordering of dimensions i.e. input.dim() = 2 is not equal to len(dims) = 3"
     ]
    }
   ],
   "source": [
    "# 1. 修改CNN模型以获取中间层特征\n",
    "class CNN(nn.Module):\n",
    "    def __init__(self, input_channels=9):\n",
    "        super(CNN, self).__init__()\n",
    "        \n",
    "        self.conv1 = nn.Sequential(\n",
    "            nn.Conv1d(input_channels, 32, kernel_size=3, padding=1),\n",
    "            nn.ReLU(),\n",
    "            nn.BatchNorm1d(32),\n",
    "            nn.MaxPool1d(kernel_size=2),\n",
    "            nn.Dropout(0.2)\n",
    "        )\n",
    "        \n",
    "        self.conv2 = nn.Sequential(\n",
    "            nn.Conv1d(32, 64, kernel_size=3, padding=1),\n",
    "            nn.ReLU(),\n",
    "            nn.BatchNorm1d(64),\n",
    "            nn.MaxPool1d(kernel_size=2),\n",
    "            nn.Dropout(0.2)\n",
    "        )\n",
    "        \n",
    "        self.conv3 = nn.Sequential(\n",
    "            nn.Conv1d(64, 128, kernel_size=3, padding=1),\n",
    "            nn.ReLU(),\n",
    "            nn.BatchNorm1d(128),\n",
    "            nn.MaxPool1d(kernel_size=2),\n",
    "            nn.Dropout(0.2)\n",
    "        )\n",
    "        \n",
    "        self.flatten_size = 128 * 2\n",
    "        \n",
    "        self.fc = nn.Sequential(\n",
    "            nn.Linear(self.flatten_size, 64),\n",
    "            nn.ReLU(),\n",
    "            nn.Dropout(0.3),\n",
    "            nn.Linear(64, 1),\n",
    "            nn.Sigmoid()\n",
    "        )\n",
    "        \n",
    "    def forward(self, x, return_features=False):\n",
    "        x = x.permute(0, 2, 1)\n",
    "        x = self.conv1(x)\n",
    "        x = self.conv2(x)\n",
    "        x = self.conv3(x)\n",
    "        features = x.view(x.size(0), -1)\n",
    "        output = self.fc(features)\n",
    "        \n",
    "        if return_features:\n",
    "            return output, features\n",
    "        return output\n",
    "\n",
    "class Simple2DCNN(nn.Module):\n",
    "    def __init__(self, input_channels=1):\n",
    "        super(Simple2DCNN, self).__init__()\n",
    "        self.conv = nn.Sequential(\n",
    "            nn.Conv2d(input_channels, 8, kernel_size=(3, 3), padding=1),\n",
    "            nn.ReLU()\n",
    "        )\n",
    "        \n",
    "        self.flatten_size = 8 * 23 * 9\n",
    "        self.fc = nn.Linear(self.flatten_size, 1)\n",
    "        \n",
    "    def forward(self, x, return_features=False):\n",
    "        x = x.unsqueeze(1)\n",
    "        conv_out = self.conv(x)\n",
    "        features = conv_out.view(conv_out.size(0), -1)\n",
    "        output = torch.sigmoid(self.fc(features))\n",
    "        \n",
    "        if return_features:\n",
    "            return output.view(-1), features\n",
    "        return output.view(-1)\n",
    "\n",
    "# 2. 预测和特征提取函数\n",
    "def predict_and_get_features(model, data_loader, device):\n",
    "    model.eval()\n",
    "    predictions = []\n",
    "    features_list = []\n",
    "    \n",
    "    with torch.no_grad():\n",
    "        for batch in data_loader:\n",
    "            X = batch[0].to(device)\n",
    "            outputs, features = model(X, return_features=True)\n",
    "            predictions.extend(outputs.cpu().numpy())\n",
    "            features_list.extend(features.cpu().numpy())\n",
    "    \n",
    "    return np.array(predictions), np.array(features_list)\n",
    "\n",
    "# 3. 准备测试数据\n",
    "test_dataset = TensorDataset(torch.FloatTensor(X_test))\n",
    "test_loader = DataLoader(test_dataset, batch_size=16)\n",
    "\n",
    "# 4. 进行预测和特征提取\n",
    "device = torch.device('cuda' if torch.cuda.is_available() else 'cpu')\n",
    "cnn_1d = CNN().to(device)\n",
    "cnn_2d = Simple2DCNN().to(device)\n",
    "\n",
    "# 获取预测结果和特征\n",
    "cnn_1d_preds, cnn_1d_features = predict_and_get_features(cnn_1d, test_loader, device)\n",
    "cnn_2d_preds, cnn_2d_features = predict_and_get_features(cnn_2d, test_loader, device)\n",
    "\n",
    "# 5. 添加预测结果到df_test\n",
    "df_test['预测_CNN1D'] = (cnn_1d_preds > 0.5).astype(int)\n",
    "df_test['预测_CNN2D'] = (cnn_2d_preds > 0.5).astype(int)\n",
    "\n",
    "# 6. t-SNE可视化\n",
    "plt.figure(figsize=(15, 6))\n",
    "\n",
    "# CNN 1D t-SNE\n",
    "plt.subplot(1, 2, 1)\n",
    "tsne = TSNE(n_components=2, random_state=42)\n",
    "cnn_1d_tsne = tsne.fit_transform(cnn_1d_features)\n",
    "plt.scatter(cnn_1d_tsne[:, 0], cnn_1d_tsne[:, 1], \n",
    "           c=df_test['预测_CNN1D'], cmap='coolwarm', alpha=0.6)\n",
    "plt.title('1D CNN 特征空间的t-SNE可视化')\n",
    "plt.xlabel('t-SNE维度1')\n",
    "plt.ylabel('t-SNE维度2')\n",
    "\n",
    "# CNN 2D t-SNE\n",
    "plt.subplot(1, 2, 2)\n",
    "cnn_2d_tsne = tsne.fit_transform(cnn_2d_features)\n",
    "plt.scatter(cnn_2d_tsne[:, 0], cnn_2d_tsne[:, 1], \n",
    "           c=df_test['预测_CNN2D'], cmap='coolwarm', alpha=0.6)\n",
    "plt.title('2D CNN 特征空间的t-SNE可视化')\n",
    "plt.xlabel('t-SNE维度1')\n",
    "plt.ylabel('t-SNE维度2')\n",
    "\n",
    "plt.tight_layout()\n",
    "plt.show()\n",
    "\n",
    "# 7. 输出预测统计信息\n",
    "print(\"\\nCNN 1D预测统计:\")\n",
    "print(df_test['预测_CNN1D'].value_counts())\n",
    "print(\"\\nCNN 2D预测统计:\")\n",
    "print(df_test['预测_CNN2D'].value_counts())"
   ]
  },
  {
   "cell_type": "code",
   "execution_count": null,
   "metadata": {},
   "outputs": [],
   "source": []
  }
 ],
 "metadata": {
  "kernelspec": {
   "display_name": "Python 3",
   "language": "python",
   "name": "python3"
  },
  "language_info": {
   "codemirror_mode": {
    "name": "ipython",
    "version": 3
   },
   "file_extension": ".py",
   "mimetype": "text/x-python",
   "name": "python",
   "nbconvert_exporter": "python",
   "pygments_lexer": "ipython3",
   "version": "3.12.1"
  }
 },
 "nbformat": 4,
 "nbformat_minor": 1
}
